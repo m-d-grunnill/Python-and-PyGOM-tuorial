{
 "cells": [
  {
   "cell_type": "markdown",
   "metadata": {
    "collapsed": false,
    "jupyter": {
     "outputs_hidden": false
    }
   },
   "source": [
    "# Python and PyGOM Tutorial\n",
    "\n",
    "By Martin Grunnill\n",
    "Given on 16<sup>th</sup> January as part of York University's Practicum in Industrial and Applied Math.\n",
    "\n",
    "Python is one of the most commonly used coding languages, hosting an extensive array of packages in Data Science, Mathematics and Machine Learning. With a syntax that emphasis readability, Python is considered one of the easiest coding languages to learn. It is also free and open source. Therefore, Python code produced in a research project can be more easily shared with others and is more accessible outside of academic institutions.\n",
    "\n",
    "This Jupyter notebook is divided into three sections:\n",
    "1. Will begin by briefly introducing Jupyter Notebooks and then the basics of python.\n",
    "2. Will then introduce the package Numpy and Pandas. Numpy provides support for handling multidimensional arrays and matrices. Pandas provides access to Dataframe and Serries objects. Dataframes being similar to spreadsheets, with Serries being a one-dimensional variant.\n",
    "3. The final section of this class with introduce PyGOM. PyGOM provides a toolbox for modeling with Ordinary Differential Equations (ODEs). Having been developed by the UK Health Security Agency, PyGOM has an emphasis on epidemiological modelling. Providing functionality not only for solving ODEs, parameter estimation and stochastic simulation, but methods for deriving the basic reproduction number R0."
   ]
  },
  {
   "cell_type": "markdown",
   "metadata": {
    "collapsed": false,
    "jupyter": {
     "outputs_hidden": false
    }
   },
   "source": [
    "# 1. Jupyter Notebooks and the Basics of Python\n",
    "## 1.1 Jupyter Notebooks: A very brief introduction\n",
    "\n",
    "We have limited time so this section will only cover enough on Jupyter notebooks to run the tutorial and point you to some extra reading on them.\n",
    "Jupyter notebooks provide an excellent medium for documenting data analysis and providing demonstrations of code in action (such as this tutorial). This due to Jupyter notebooks being structured around 2 types cells. The first type of cell allows for markdown text, as is used in this cell. The second type allows for code and will display any output from the cell below it. Try running the code cell below by clicking the cell and then pressing Shift+Enter. You can even replace the output by replacing the text. To do this click on the cell replace the text and hit shift+enter."
   ]
  },
  {
   "cell_type": "code",
   "execution_count": 1,
   "metadata": {
    "collapsed": false,
    "jupyter": {
     "outputs_hidden": false
    }
   },
   "outputs": [
    {
     "name": "stdout",
     "output_type": "stream",
     "text": [
      "Hello World\n"
     ]
    }
   ],
   "source": [
    "# Click me, then press shift+enter and the statement in quotations should then appear below.\n",
    "print('Hello World')"
   ]
  },
  {
   "cell_type": "markdown",
   "metadata": {
    "collapsed": false,
    "jupyter": {
     "outputs_hidden": false
    }
   },
   "source": [
    "Markdown cells can be edited by double clicking on them. To render them back into display text hit shift+enter. For a tutorial on editing markdown see:\n",
    "* [https://www.ibm.com/docs/en/watson-studio-local/1.2.3?topic=notebooks-markdown-jupyter-cheatsheet](https://www.ibm.com/docs/en/watson-studio-local/1.2.3?topic=notebooks-markdown-jupyter-cheatsheet)"
   ],
   "outputs": []
  },
  {
   "cell_type": "markdown",
   "source": [
    "Shortcuts for Jupyter notebooks run in a browser can be found under help->show keyboard shortcuts. These shortcuts maybe different in running a Jupyter notebook in an IDE such as PyCharm or VS code."
   ],
   "metadata": {
    "collapsed": false
   }
  },
  {
   "cell_type": "markdown",
   "metadata": {},
   "source": [
    "The Jupyter project name comes from the coding languages Julia, Python and R. As such Jupyter notebooks can be setup to use those languages and many [others](https://github.com/jupyter/jupyter/wiki/Jupyter-kernels). You can even use multiple languages in the same notebook through using the command `%%` followed by the name of the language, on the first line of a cell. For a tutorials on using R within a Python based notebook see:\n",
    "* [https://anderfernandez.com/en/blog/how-to-program-with-python-and-r-in-the-same-jupyter-notebook/](https://anderfernandez.com/en/blog/how-to-program-with-python-and-r-in-the-same-jupyter-notebook/)\n",
    "* [https://www.askpython.com/python/examples/use-r-and-python-in-the-same-notebook](https://www.askpython.com/python/examples/use-r-and-python-in-the-same-notebook)"
   ]
  },
  {
   "cell_type": "markdown",
   "source": [
    "## 1.2 Basics of Python"
   ],
   "metadata": {
    "collapsed": false
   }
  },
  {
   "cell_type": "code",
   "execution_count": null,
   "outputs": [],
   "source": [],
   "metadata": {
    "collapsed": false
   }
  }
 ],
 "metadata": {
  "kernelspec": {
   "display_name": "Python 3 (ipykernel)",
   "language": "python",
   "name": "python3"
  },
  "language_info": {
   "codemirror_mode": {
    "name": "ipython",
    "version": 3
   },
   "file_extension": ".py",
   "mimetype": "text/x-python",
   "name": "python",
   "nbconvert_exporter": "python",
   "pygments_lexer": "ipython3",
   "version": "3.11.7"
  }
 },
 "nbformat": 4,
 "nbformat_minor": 4
}
