{
 "cells": [
  {
   "cell_type": "markdown",
   "metadata": {
    "collapsed": false,
    "jupyter": {
     "outputs_hidden": false
    }
   },
   "source": [
    "# Basics of Python Tutorial\n",
    "\n",
    "By Martin Grunnill\n",
    "Given on 9<sup>th</sup> January as part of York University's Practicum in Industrial and Applied Math.\n",
    "\n",
    "Python is one of the most commonly used coding languages, hosting an extensive array of packages in Data Science, Mathematics and Machine Learning. With a syntax that emphasis readability, Python is considered one of the easiest coding languages to learn. It is also free and open source. Therefore, Python code produced in a research project can be more easily shared with others and is more accessible outside of academic institutions.\n",
    "\n",
    "This Jupyter notebook is divided into three sections:\n",
    "1. Will begin by briefly introducing Jupyter Notebooks\n",
    "2. Basic types in python.\n",
    "3. Functions and Conditions.\n",
    "4. Classes\n",
    "5. Importing packages.\n",
    "6. Loops"
   ]
  },
  {
   "cell_type": "markdown",
   "metadata": {
    "collapsed": false,
    "jupyter": {
     "outputs_hidden": false
    }
   },
   "source": [
    "# 1 Jupyter Notebooks: A very brief introduction\n",
    "\n",
    "We have limited time so this section will only cover enough on Jupyter notebooks to run the tutorial and point you to some extra reading on them.\n",
    "Jupyter notebooks provide an excellent medium for documenting data analysis and providing demonstrations of code in action (such as this tutorial). This due to Jupyter notebooks being structured around 2 types cells. The first type of cell allows for markdown text, as is used in this cell. The second type allows for code and will display any output from the cell below it. Try running the code cell below by clicking the cell and then pressing Shift+Enter. You can even replace the output by replacing the text. To do this click on the cell replace the text and hit shift+enter."
   ]
  },
  {
   "cell_type": "code",
   "execution_count": 1,
   "metadata": {
    "collapsed": false,
    "jupyter": {
     "outputs_hidden": false
    }
   },
   "outputs": [
    {
     "name": "stdout",
     "output_type": "stream",
     "text": [
      "Hello World\n"
     ]
    }
   ],
   "source": [
    "# Click me, then press shift+enter and the statement in quotations should then appear below.\n",
    "print('Hello World')"
   ]
  },
  {
   "cell_type": "markdown",
   "metadata": {
    "collapsed": false,
    "jupyter": {
     "outputs_hidden": false
    }
   },
   "source": [
    "Markdown cells can be edited by double clicking on them. To render them back into display text hit shift+enter. For a cheatsheet on markdown see:\n",
    "* [https://www.ibm.com/docs/en/watson-studio-local/1.2.3?topic=notebooks-markdown-jupyter-cheatsheet](https://www.ibm.com/docs/en/watson-studio-local/1.2.3?topic=notebooks-markdown-jupyter-cheatsheet)"
   ]
  },
  {
   "cell_type": "markdown",
   "metadata": {
    "collapsed": false,
    "jupyter": {
     "outputs_hidden": false
    }
   },
   "source": [
    "Shortcuts for Jupyter notebooks run in a browser can be found under help->show keyboard shortcuts. These shortcuts maybe different in running a Jupyter notebook in an IDE such as PyCharm or VS code."
   ]
  },
  {
   "cell_type": "markdown",
   "metadata": {},
   "source": [
    "The Jupyter project name comes from the coding languages Julia, Python and R. As such Jupyter notebooks can be setup to use those languages and many [others](https://github.com/jupyter/jupyter/wiki/Jupyter-kernels). You can even use multiple languages in the same notebook through using the command `%%` followed by the name of the language, on the first line of a cell. For a tutorials on using R within a Python based notebook see:\n",
    "* [https://anderfernandez.com/en/blog/how-to-program-with-python-and-r-in-the-same-jupyter-notebook/](https://anderfernandez.com/en/blog/how-to-program-with-python-and-r-in-the-same-jupyter-notebook/)\n",
    "* [https://www.askpython.com/python/examples/use-r-and-python-in-the-same-notebook](https://www.askpython.com/python/examples/use-r-and-python-in-the-same-notebook)"
   ]
  },
  {
   "cell_type": "markdown",
   "metadata": {
    "collapsed": false,
    "jupyter": {
     "outputs_hidden": false
    }
   },
   "source": [
    "# 2 Basics of Python\n",
    "## 2.1 Comments and block comments.\n",
    "\n",
    "Single comments can be put into python code using #. This tells python to ignore all text after #. For example the last line of the code cell below is not read by python."
   ]
  },
  {
   "cell_type": "code",
   "execution_count": 2,
   "metadata": {
    "collapsed": false,
    "jupyter": {
     "outputs_hidden": false
    }
   },
   "outputs": [
    {
     "name": "stdout",
     "output_type": "stream",
     "text": [
      "Hello\n"
     ]
    }
   ],
   "source": [
    "# Not read by ptyhon.\n",
    "print('Hello')\n",
    "# Also not read by ptyhon."
   ]
  },
  {
   "cell_type": "markdown",
   "metadata": {
    "collapsed": false,
    "jupyter": {
     "outputs_hidden": false
    }
   },
   "source": [
    "Similarly, text between the block quotes ''' ''' and \"\"\" \"\"\" is also not read, see example below."
   ]
  },
  {
   "cell_type": "code",
   "execution_count": 3,
   "metadata": {
    "collapsed": false,
    "jupyter": {
     "outputs_hidden": false
    }
   },
   "outputs": [
    {
     "name": "stdout",
     "output_type": "stream",
     "text": [
      "Hello\n"
     ]
    }
   ],
   "source": [
    "\"\"\"\"\n",
    "Not\n",
    "read\n",
    "by\n",
    "python.\n",
    "\"\"\"\n",
    "''' Also Not read by python. '''\n",
    "print('Hello')"
   ]
  },
  {
   "cell_type": "markdown",
   "metadata": {
    "collapsed": false,
    "jupyter": {
     "outputs_hidden": false
    }
   },
   "source": [
    "## 2.2 Basic types\n",
    "### 2.2.1 Numeric Types\n",
    "\n",
    "As this is part of a Practicum in Industrial and Applied Math course some of the most common basic type you will be dealing with are ints and floats. Lets assign a float and int to variable."
   ]
  },
  {
   "cell_type": "code",
   "execution_count": 4,
   "metadata": {
    "collapsed": false,
    "jupyter": {
     "outputs_hidden": false
    }
   },
   "outputs": [],
   "source": [
    "forty_two = 42\n",
    "pi_ish = 3.14"
   ]
  },
  {
   "cell_type": "markdown",
   "metadata": {
    "collapsed": false,
    "jupyter": {
     "outputs_hidden": false
    }
   },
   "source": [
    "The in built function `type` can tell you what type a variable is. Replace the pi_sih with forty_two to see which type forty_two is."
   ]
  },
  {
   "cell_type": "code",
   "execution_count": 5,
   "metadata": {
    "collapsed": false,
    "jupyter": {
     "outputs_hidden": false
    }
   },
   "outputs": [
    {
     "data": {
      "text/plain": [
       "float"
      ]
     },
     "execution_count": 5,
     "metadata": {},
     "output_type": "execute_result"
    }
   ],
   "source": [
    "type(pi_ish)"
   ]
  },
  {
   "cell_type": "markdown",
   "metadata": {
    "collapsed": false,
    "jupyter": {
     "outputs_hidden": false
    }
   },
   "source": [
    "Basic mathmatical operations are demonstrated below.\n",
    "**Note** the `display` function on the last line is a Jupyter notebook function that behaves similar way to print."
   ]
  },
  {
   "cell_type": "code",
   "execution_count": 6,
   "metadata": {
    "collapsed": false,
    "jupyter": {
     "outputs_hidden": false
    }
   },
   "outputs": [
    {
     "data": {
      "text/plain": [
       "45.14"
      ]
     },
     "metadata": {},
     "output_type": "display_data"
    },
    {
     "data": {
      "text/plain": [
       "38.86"
      ]
     },
     "metadata": {},
     "output_type": "display_data"
    },
    {
     "data": {
      "text/plain": [
       "131.88"
      ]
     },
     "metadata": {},
     "output_type": "display_data"
    },
    {
     "data": {
      "text/plain": [
       "13.375796178343949"
      ]
     },
     "metadata": {},
     "output_type": "display_data"
    },
    {
     "data": {
      "text/plain": [
       "125026.7009920332"
      ]
     },
     "metadata": {},
     "output_type": "display_data"
    },
    {
     "data": {
      "text/plain": [
       "3.2882011185496975"
      ]
     },
     "metadata": {},
     "output_type": "display_data"
    }
   ],
   "source": [
    "# Addition\n",
    "add_exmpl= forty_two + pi_ish\n",
    "# Subtraction\n",
    "sub_exmpl = forty_two - pi_ish\n",
    "# Multiplication\n",
    "multiplication_exmple = forty_two * pi_ish\n",
    "# Devision\n",
    "devision_example = forty_two / pi_ish\n",
    "# Powers\n",
    "power_example = forty_two**pi_ish \n",
    "# Roots\n",
    "root_example = forty_two**(1/pi_ish)\n",
    "display(add_exmpl, sub_exmpl, multiplication_exmple, devision_example, power_example, root_example)"
   ]
  },
  {
   "cell_type": "markdown",
   "metadata": {
    "collapsed": false,
    "jupyter": {
     "outputs_hidden": false
    }
   },
   "source": [
    "A further note on addition. Numeric types can be added to using `+=` assignment:"
   ]
  },
  {
   "cell_type": "code",
   "execution_count": 7,
   "metadata": {
    "collapsed": false,
    "jupyter": {
     "outputs_hidden": false
    }
   },
   "outputs": [
    {
     "data": {
      "text/plain": [
       "15"
      ]
     },
     "metadata": {},
     "output_type": "display_data"
    }
   ],
   "source": [
    "a_number = 3\n",
    "a_number += 2\n",
    "a_number *= 3\n",
    "display(a_number)"
   ]
  },
  {
   "cell_type": "markdown",
   "metadata": {
    "collapsed": false,
    "jupyter": {
     "outputs_hidden": false
    }
   },
   "source": [
    "### 2.2.2 Boolean values\n",
    "\n",
    "Bool types (short for Boolean values) can be assianed through `True` or `False`. See what happens what happens when you perform mathmatical operations on bool types:"
   ]
  },
  {
   "cell_type": "code",
   "execution_count": 8,
   "metadata": {
    "collapsed": false,
    "jupyter": {
     "outputs_hidden": false
    }
   },
   "outputs": [
    {
     "data": {
      "text/plain": [
       "True"
      ]
     },
     "metadata": {},
     "output_type": "display_data"
    },
    {
     "data": {
      "text/plain": [
       "False"
      ]
     },
     "metadata": {},
     "output_type": "display_data"
    },
    {
     "data": {
      "text/plain": [
       "1"
      ]
     },
     "metadata": {},
     "output_type": "display_data"
    },
    {
     "data": {
      "text/plain": [
       "2"
      ]
     },
     "metadata": {},
     "output_type": "display_data"
    },
    {
     "data": {
      "text/plain": [
       "0"
      ]
     },
     "metadata": {},
     "output_type": "display_data"
    },
    {
     "data": {
      "text/plain": [
       "0"
      ]
     },
     "metadata": {},
     "output_type": "display_data"
    },
    {
     "data": {
      "text/plain": [
       "1"
      ]
     },
     "metadata": {},
     "output_type": "display_data"
    },
    {
     "data": {
      "text/plain": [
       "0"
      ]
     },
     "metadata": {},
     "output_type": "display_data"
    }
   ],
   "source": [
    "a = True\n",
    "b = False\n",
    "display(a, b, a+b, a+a, b+b, a*b, a**2, b**2)"
   ]
  },
  {
   "cell_type": "markdown",
   "metadata": {
    "collapsed": false,
    "jupyter": {
     "outputs_hidden": false
    }
   },
   "source": [
    "Boolean values can also be returned on conditional statements\n",
    "* \\> greater than.\n",
    "* \\< less than.\n",
    "* == is exactly equal to.\n",
    "* != is not equal to.\n",
    "* \\>= greater than or equal to.\n",
    "* <= less than or equal to."
   ]
  },
  {
   "cell_type": "code",
   "execution_count": 9,
   "metadata": {
    "collapsed": false,
    "jupyter": {
     "outputs_hidden": false
    }
   },
   "outputs": [
    {
     "data": {
      "text/plain": [
       "True"
      ]
     },
     "metadata": {},
     "output_type": "display_data"
    },
    {
     "data": {
      "text/plain": [
       "False"
      ]
     },
     "metadata": {},
     "output_type": "display_data"
    },
    {
     "data": {
      "text/plain": [
       "False"
      ]
     },
     "metadata": {},
     "output_type": "display_data"
    },
    {
     "data": {
      "text/plain": [
       "True"
      ]
     },
     "metadata": {},
     "output_type": "display_data"
    },
    {
     "data": {
      "text/plain": [
       "True"
      ]
     },
     "metadata": {},
     "output_type": "display_data"
    },
    {
     "data": {
      "text/plain": [
       "False"
      ]
     },
     "metadata": {},
     "output_type": "display_data"
    }
   ],
   "source": [
    "display(1>0,1<0, 1==0, 1!=0, 1>=0, 1<=0)"
   ]
  },
  {
   "cell_type": "markdown",
   "metadata": {
    "collapsed": false,
    "jupyter": {
     "outputs_hidden": false
    }
   },
   "source": [
    "### 2.2.3 Strings\n",
    "\n",
    "A string is a representation of text within python and must be surrounded by the quotation marks \"\" or '', see example below."
   ]
  },
  {
   "cell_type": "code",
   "execution_count": 10,
   "metadata": {
    "collapsed": false,
    "jupyter": {
     "outputs_hidden": false
    }
   },
   "outputs": [
    {
     "data": {
      "text/plain": [
       "'blah'"
      ]
     },
     "metadata": {},
     "output_type": "display_data"
    },
    {
     "data": {
      "text/plain": [
       "'A quote from Douglas Adams: \"Dont Panic\"'"
      ]
     },
     "metadata": {},
     "output_type": "display_data"
    }
   ],
   "source": [
    "basic_string = \"blah\"\n",
    "qoute_within_string = 'A quote from Douglas Adams: \"Dont Panic\"'\n",
    "display(basic_string, qoute_within_string)"
   ]
  },
  {
   "cell_type": "markdown",
   "metadata": {
    "collapsed": false,
    "jupyter": {
     "outputs_hidden": false
    }
   },
   "source": [
    "Strings can be indexed using `[]`. The first item is indexed via `[0]`, the second `[1]` and so on. The last item can be indexed via `[-1]`, the second to last `[-2]` and so on."
   ]
  },
  {
   "cell_type": "code",
   "execution_count": 11,
   "metadata": {
    "collapsed": false,
    "jupyter": {
     "outputs_hidden": false
    }
   },
   "outputs": [
    {
     "data": {
      "text/plain": [
       "'A'"
      ]
     },
     "metadata": {},
     "output_type": "display_data"
    },
    {
     "data": {
      "text/plain": [
       "' '"
      ]
     },
     "metadata": {},
     "output_type": "display_data"
    },
    {
     "data": {
      "text/plain": [
       "'\"'"
      ]
     },
     "metadata": {},
     "output_type": "display_data"
    },
    {
     "data": {
      "text/plain": [
       "'c'"
      ]
     },
     "metadata": {},
     "output_type": "display_data"
    }
   ],
   "source": [
    "display(qoute_within_string[0], qoute_within_string[1], qoute_within_string[-1], qoute_within_string[-2])"
   ]
  },
  {
   "cell_type": "markdown",
   "metadata": {
    "collapsed": false,
    "jupyter": {
     "outputs_hidden": false
    }
   },
   "source": [
    "Several items in a string can be indexed via `:`."
   ]
  },
  {
   "cell_type": "code",
   "execution_count": 12,
   "metadata": {
    "collapsed": false,
    "jupyter": {
     "outputs_hidden": false
    }
   },
   "outputs": [
    {
     "data": {
      "text/plain": [
       "'qu'"
      ]
     },
     "metadata": {},
     "output_type": "display_data"
    },
    {
     "data": {
      "text/plain": [
       "'quote from Douglas Adams: \"Dont Panic\"'"
      ]
     },
     "metadata": {},
     "output_type": "display_data"
    },
    {
     "data": {
      "text/plain": [
       "'A quo'"
      ]
     },
     "metadata": {},
     "output_type": "display_data"
    },
    {
     "data": {
      "text/plain": [
       "'A quote from Douglas Adams: \"Dont Panic'"
      ]
     },
     "metadata": {},
     "output_type": "display_data"
    }
   ],
   "source": [
    "example_1 = qoute_within_string[2:4] # 3rd to 4th.\n",
    "example_2 = qoute_within_string[2:] #  3rd to and inscluding last.\n",
    "example_3 = qoute_within_string[:5] # 1st to before 5th.\n",
    "example_4 = qoute_within_string[:-1] # 1st to 2nd to last.\n",
    "display(example_1, example_2, example_3, example_4)"
   ]
  },
  {
   "cell_type": "markdown",
   "metadata": {
    "collapsed": false,
    "jupyter": {
     "outputs_hidden": false
    }
   },
   "source": [
    "The length of a string can be determind be the function `len`."
   ]
  },
  {
   "cell_type": "code",
   "execution_count": 13,
   "metadata": {
    "collapsed": false,
    "jupyter": {
     "outputs_hidden": false
    }
   },
   "outputs": [
    {
     "data": {
      "text/plain": [
       "40"
      ]
     },
     "execution_count": 13,
     "metadata": {},
     "output_type": "execute_result"
    }
   ],
   "source": [
    "len(qoute_within_string)"
   ]
  },
  {
   "cell_type": "markdown",
   "metadata": {
    "collapsed": false,
    "jupyter": {
     "outputs_hidden": false
    }
   },
   "source": [
    "Strings can be concatanated together with `+`."
   ]
  },
  {
   "cell_type": "code",
   "execution_count": 14,
   "metadata": {
    "collapsed": false,
    "jupyter": {
     "outputs_hidden": false
    }
   },
   "outputs": [
    {
     "data": {
      "text/plain": [
       "'Hello there.'"
      ]
     },
     "metadata": {},
     "output_type": "display_data"
    }
   ],
   "source": [
    "greetings = 'Hello' + ' ' + 'there.'\n",
    "display(greetings)"
   ]
  },
  {
   "cell_type": "markdown",
   "metadata": {
    "collapsed": false,
    "jupyter": {
     "outputs_hidden": false
    }
   },
   "source": [
    "Substrings within a string can be replaced with function `replace`:"
   ]
  },
  {
   "cell_type": "code",
   "execution_count": 15,
   "metadata": {
    "collapsed": false,
    "jupyter": {
     "outputs_hidden": false
    }
   },
   "outputs": [
    {
     "data": {
      "text/plain": [
       "'A quote from Douglas Adams: \"Time is an illusion. Lunchtime doubly so.\"'"
      ]
     },
     "execution_count": 15,
     "metadata": {},
     "output_type": "execute_result"
    }
   ],
   "source": [
    "new_HGG_qoute = qoute_within_string.replace('\"Dont Panic\"', '\"Time is an illusion. Lunchtime doubly so.\"')\n",
    "new_HGG_qoute"
   ]
  },
  {
   "cell_type": "markdown",
   "metadata": {
    "collapsed": false,
    "jupyter": {
     "outputs_hidden": false
    }
   },
   "source": [
    "## 2.3 Basic Collections.\n",
    "\n",
    "Coolection\n",
    "### 2.3.1 Lists and Tuples\n",
    "\n",
    "Lists are one of the most common basic representation of collections of data in python coding. Any types of variables can be assigned within a list. Lists are created using `[]`:"
   ]
  },
  {
   "cell_type": "code",
   "execution_count": 16,
   "metadata": {
    "collapsed": false,
    "jupyter": {
     "outputs_hidden": false
    }
   },
   "outputs": [
    {
     "data": {
      "text/plain": [
       "['foo', 42, 1, 3.14]"
      ]
     },
     "metadata": {},
     "output_type": "display_data"
    }
   ],
   "source": [
    "odds_and_ends = ['foo', forty_two, 1, pi_ish]\n",
    "display(odds_and_ends)"
   ]
  },
  {
   "cell_type": "markdown",
   "metadata": {
    "collapsed": false,
    "jupyter": {
     "outputs_hidden": false
    }
   },
   "source": [
    "Single items can be added to the end of lists through the method `append` or up:"
   ]
  },
  {
   "cell_type": "code",
   "execution_count": 17,
   "metadata": {
    "collapsed": false,
    "jupyter": {
     "outputs_hidden": false
    }
   },
   "outputs": [
    {
     "data": {
      "text/plain": [
       "['foo', 42, 1, 3.14, 'Hello there.']"
      ]
     },
     "metadata": {},
     "output_type": "display_data"
    }
   ],
   "source": [
    "odds_and_ends.append(greetings)\n",
    "display(odds_and_ends)"
   ]
  },
  {
   "cell_type": "markdown",
   "metadata": {
    "collapsed": false,
    "jupyter": {
     "outputs_hidden": false
    }
   },
   "source": [
    "Lists can be merged/concatenated together:"
   ]
  },
  {
   "cell_type": "code",
   "execution_count": 18,
   "metadata": {
    "collapsed": false,
    "jupyter": {
     "outputs_hidden": false
    }
   },
   "outputs": [
    {
     "data": {
      "text/plain": [
       "['one', 2, 1, 'two']"
      ]
     },
     "metadata": {},
     "output_type": "display_data"
    },
    {
     "data": {
      "text/plain": [
       "['one', 2, 1, 'two', 'foo', 42, 1, 3.14, 'Hello there.']"
      ]
     },
     "metadata": {},
     "output_type": "display_data"
    },
    {
     "data": {
      "text/plain": [
       "['A quote from Douglas Adams: \"Dont Panic\"',\n",
       " 'A quote from Douglas Adams: \"Time is an illusion. Lunchtime doubly so.\"']"
      ]
     },
     "metadata": {},
     "output_type": "display_data"
    }
   ],
   "source": [
    "new_list_1 = ['one',2] + [1,'two']\n",
    "new_list_2 = new_list_1 + odds_and_ends\n",
    "new_list_3 = [] # You can assign empty lists\n",
    "new_list_3 += [qoute_within_string,new_HGG_qoute]\n",
    "display(new_list_1, new_list_2, new_list_3)"
   ]
  },
  {
   "cell_type": "markdown",
   "metadata": {
    "collapsed": false,
    "jupyter": {
     "outputs_hidden": false
    }
   },
   "source": [
    "Lists can be indexed using `[]` just like strings. The first item is indexed via `[0]`, the second `[1]` and so on. The last item can be indexed via `[-1]`, the second to last `[-2]` and so on."
   ]
  },
  {
   "cell_type": "code",
   "execution_count": 19,
   "metadata": {
    "collapsed": false,
    "jupyter": {
     "outputs_hidden": false
    }
   },
   "outputs": [
    {
     "data": {
      "text/plain": [
       "'foo'"
      ]
     },
     "metadata": {},
     "output_type": "display_data"
    },
    {
     "data": {
      "text/plain": [
       "42"
      ]
     },
     "metadata": {},
     "output_type": "display_data"
    },
    {
     "data": {
      "text/plain": [
       "'Hello there.'"
      ]
     },
     "metadata": {},
     "output_type": "display_data"
    },
    {
     "data": {
      "text/plain": [
       "3.14"
      ]
     },
     "metadata": {},
     "output_type": "display_data"
    }
   ],
   "source": [
    "display(odds_and_ends[0], odds_and_ends[1], odds_and_ends[-1], odds_and_ends[-2])"
   ]
  },
  {
   "cell_type": "markdown",
   "metadata": {
    "collapsed": false,
    "jupyter": {
     "outputs_hidden": false
    }
   },
   "source": [
    "Several items in a list or tuples can be indexed via `:`."
   ]
  },
  {
   "cell_type": "code",
   "execution_count": 20,
   "metadata": {
    "collapsed": false,
    "jupyter": {
     "outputs_hidden": false
    }
   },
   "outputs": [
    {
     "data": {
      "text/plain": [
       "[1, 3.14]"
      ]
     },
     "metadata": {},
     "output_type": "display_data"
    },
    {
     "data": {
      "text/plain": [
       "[1, 3.14, 'Hello there.']"
      ]
     },
     "metadata": {},
     "output_type": "display_data"
    },
    {
     "data": {
      "text/plain": [
       "['foo', 42, 1, 3.14, 'Hello there.']"
      ]
     },
     "metadata": {},
     "output_type": "display_data"
    },
    {
     "data": {
      "text/plain": [
       "['foo', 42, 1, 3.14]"
      ]
     },
     "metadata": {},
     "output_type": "display_data"
    }
   ],
   "source": [
    "example_1 = odds_and_ends[2:4] # 3rd to 4th.\n",
    "example_2 = odds_and_ends[2:] #  3rd to and inscluding last.\n",
    "example_3 = odds_and_ends[:5] # 1st to before 5th.\n",
    "example_4 = odds_and_ends[:-1] # 1st to 2nd to last.\n",
    "display(example_1, example_2, example_3, example_4)"
   ]
  },
  {
   "cell_type": "markdown",
   "metadata": {
    "collapsed": false,
    "jupyter": {
     "outputs_hidden": false
    }
   },
   "source": [
    "A lists contents can be unpacked into collections at their creation or functions using `*`:"
   ]
  },
  {
   "cell_type": "code",
   "execution_count": 21,
   "metadata": {
    "collapsed": false,
    "jupyter": {
     "outputs_hidden": false
    }
   },
   "outputs": [
    {
     "data": {
      "text/plain": [
       "'A quote from Douglas Adams: \"Dont Panic\"'"
      ]
     },
     "metadata": {},
     "output_type": "display_data"
    },
    {
     "data": {
      "text/plain": [
       "'A quote from Douglas Adams: \"Time is an illusion. Lunchtime doubly so.\"'"
      ]
     },
     "metadata": {},
     "output_type": "display_data"
    }
   ],
   "source": [
    "new_list_4 = [*new_list_3]\n",
    "display(*new_list_4)"
   ]
  },
  {
   "cell_type": "markdown",
   "metadata": {
    "collapsed": false,
    "jupyter": {
     "outputs_hidden": false
    }
   },
   "source": [
    "Tuples behave very similar to lists. They are created via `()`."
   ]
  },
  {
   "cell_type": "code",
   "execution_count": 22,
   "metadata": {
    "collapsed": false,
    "jupyter": {
     "outputs_hidden": false
    }
   },
   "outputs": [],
   "source": [
    "tuple_1 = ('foo',pi_ish, 2)\n",
    "tuple_2 = ('bah', -1, -forty_two)"
   ]
  },
  {
   "cell_type": "markdown",
   "metadata": {
    "collapsed": false,
    "jupyter": {
     "outputs_hidden": false
    }
   },
   "source": [
    "Tuples unlike lists cannot are immutable so the `append` method is absent from them. However, they can be concatanated to make a new tuple:"
   ]
  },
  {
   "cell_type": "code",
   "execution_count": 23,
   "metadata": {
    "collapsed": false,
    "jupyter": {
     "outputs_hidden": false
    }
   },
   "outputs": [],
   "source": [
    "tuple_3 = tuple_1 + tuple_2"
   ]
  },
  {
   "cell_type": "markdown",
   "metadata": {
    "collapsed": false,
    "jupyter": {
     "outputs_hidden": false
    }
   },
   "source": [
    "### 2.3.2 Range\n",
    "\n",
    "The command `range` will produce a sequence of ints that can be indexed like a list or a tuple. Notice 42 is not the last number in test_range but 41 is."
   ]
  },
  {
   "cell_type": "code",
   "execution_count": 24,
   "metadata": {
    "collapsed": false,
    "jupyter": {
     "outputs_hidden": false
    }
   },
   "outputs": [
    {
     "data": {
      "text/plain": [
       "range(0, 42)"
      ]
     },
     "metadata": {},
     "output_type": "display_data"
    },
    {
     "data": {
      "text/plain": [
       "0"
      ]
     },
     "metadata": {},
     "output_type": "display_data"
    },
    {
     "data": {
      "text/plain": [
       "41"
      ]
     },
     "metadata": {},
     "output_type": "display_data"
    }
   ],
   "source": [
    "test_range = range(42)\n",
    "display(test_range, test_range[0], test_range[-1])"
   ]
  },
  {
   "cell_type": "markdown",
   "metadata": {
    "collapsed": false,
    "jupyter": {
     "outputs_hidden": false
    }
   },
   "source": [
    "Ranges can start and stop at any int in step sizes that are int values. They can also be unpacked via `*`."
   ]
  },
  {
   "cell_type": "code",
   "execution_count": 25,
   "metadata": {
    "collapsed": false,
    "jupyter": {
     "outputs_hidden": false
    }
   },
   "outputs": [
    {
     "data": {
      "text/plain": [
       "2"
      ]
     },
     "metadata": {},
     "output_type": "display_data"
    },
    {
     "data": {
      "text/plain": [
       "-1"
      ]
     },
     "metadata": {},
     "output_type": "display_data"
    },
    {
     "data": {
      "text/plain": [
       "-4"
      ]
     },
     "metadata": {},
     "output_type": "display_data"
    },
    {
     "data": {
      "text/plain": [
       "-7"
      ]
     },
     "metadata": {},
     "output_type": "display_data"
    }
   ],
   "source": [
    "test_range2 = range(2,-10,-3)\n",
    "display(*test_range2)"
   ]
  },
  {
   "cell_type": "markdown",
   "metadata": {
    "collapsed": false,
    "jupyter": {
     "outputs_hidden": false
    }
   },
   "source": [
    "### 2.3.2 Sets\n",
    "Sets are unordered collections of unique objects, the elements of which cannot be altered. However, sets be added to. To create a set use `{}` or `set`. Personally I prefer  use `set` as it avoids confusion with dictionaries (see later)."
   ]
  },
  {
   "cell_type": "code",
   "execution_count": 26,
   "metadata": {
    "collapsed": false,
    "jupyter": {
     "outputs_hidden": false
    }
   },
   "outputs": [
    {
     "data": {
      "text/plain": [
       "{-7, -4, -1, 2}"
      ]
     },
     "metadata": {},
     "output_type": "display_data"
    },
    {
     "data": {
      "text/plain": [
       "{2, True, 'a'}"
      ]
     },
     "metadata": {},
     "output_type": "display_data"
    }
   ],
   "source": [
    "set_1 = {*test_range2}\n",
    "set_2 = set(['a',2,True])\n",
    "display(set_1,set_2)"
   ]
  },
  {
   "cell_type": "markdown",
   "metadata": {
    "collapsed": false,
    "jupyter": {
     "outputs_hidden": false
    }
   },
   "source": [
    "There are multiple operation surrounding sets (most of them taken from set theory). However, sets are not as commonly used in python as lists or dictionaries, see next section. For a guide to set operations see [https://realpython.com/python-sets/](https://realpython.com/python-sets/)."
   ]
  },
  {
   "cell_type": "markdown",
   "metadata": {
    "collapsed": false,
    "jupyter": {
     "outputs_hidden": false
    }
   },
   "source": [
    "### 2.3.3 Dictionaries\n",
    "\n",
    "A dictionary is collection of key value pairs. They are created via `{key:value}`:"
   ]
  },
  {
   "cell_type": "code",
   "execution_count": 27,
   "metadata": {
    "collapsed": false,
    "jupyter": {
     "outputs_hidden": false
    }
   },
   "outputs": [
    {
     "data": {
      "text/plain": [
       "{'a': 1, 'b': 2}"
      ]
     },
     "metadata": {},
     "output_type": "display_data"
    },
    {
     "data": {
      "text/plain": [
       "{1: 'a', 2: 'b'}"
      ]
     },
     "metadata": {},
     "output_type": "display_data"
    },
    {
     "data": {
      "text/plain": [
       "{1: 'a', 'b': 2}"
      ]
     },
     "metadata": {},
     "output_type": "display_data"
    }
   ],
   "source": [
    "dict_1 = {'a':1, 'b':2} # typically people assign strings to keys, but keys can be other types:\n",
    "dict_2 = {1:'a', 2: 'b'} # or you can have keys of different types:\n",
    "dict_3 = {1:'a', 'b':2}\n",
    "display(dict_1,dict_2,dict_3)"
   ]
  },
  {
   "cell_type": "markdown",
   "metadata": {
    "collapsed": false,
    "jupyter": {
     "outputs_hidden": false
    }
   },
   "source": [
    "`dict[key]` indexes a value in a dictionary using the key:"
   ]
  },
  {
   "cell_type": "code",
   "execution_count": 28,
   "metadata": {
    "collapsed": false,
    "jupyter": {
     "outputs_hidden": false
    }
   },
   "outputs": [
    {
     "data": {
      "text/plain": [
       "'a'"
      ]
     },
     "metadata": {},
     "output_type": "display_data"
    },
    {
     "data": {
      "text/plain": [
       "2"
      ]
     },
     "metadata": {},
     "output_type": "display_data"
    }
   ],
   "source": [
    "display(dict_3[1],dict_3['b'])"
   ]
  },
  {
   "cell_type": "markdown",
   "metadata": {
    "collapsed": false,
    "jupyter": {
     "outputs_hidden": false
    }
   },
   "source": [
    "Dictionaries can be added to or updated with other dictionaries:"
   ]
  },
  {
   "cell_type": "code",
   "execution_count": 29,
   "metadata": {
    "collapsed": false,
    "jupyter": {
     "outputs_hidden": false
    }
   },
   "outputs": [
    {
     "data": {
      "text/plain": [
       "{1: 'a', 2: 'b', 3: 'c'}"
      ]
     },
     "metadata": {},
     "output_type": "display_data"
    },
    {
     "data": {
      "text/plain": [
       "{1: 'a', 'b': 2, 2: 'b', 3: 'c'}"
      ]
     },
     "metadata": {},
     "output_type": "display_data"
    }
   ],
   "source": [
    "dict_2[3] = 'c'\n",
    "dict_3.update(dict_2)\n",
    "display(dict_2,dict_3)"
   ]
  },
  {
   "cell_type": "markdown",
   "metadata": {
    "collapsed": false,
    "jupyter": {
     "outputs_hidden": false
    }
   },
   "source": [
    "Elements of a dictionary can be removed through `del`."
   ]
  },
  {
   "cell_type": "code",
   "execution_count": 30,
   "metadata": {
    "collapsed": false,
    "jupyter": {
     "outputs_hidden": false
    }
   },
   "outputs": [
    {
     "data": {
      "text/plain": [
       "{1: 'a', 'b': 2, 2: 'b'}"
      ]
     },
     "execution_count": 30,
     "metadata": {},
     "output_type": "execute_result"
    }
   ],
   "source": [
    "del dict_3[3]\n",
    "dict_3"
   ]
  },
  {
   "cell_type": "markdown",
   "metadata": {
    "collapsed": false,
    "jupyter": {
     "outputs_hidden": false
    }
   },
   "source": [
    "# 3. Functions and Conditions\n",
    "## 3.1 Function\n",
    "\n",
    "In python you can create a function `def` in the following manner. Note all lines after the functions defining line (first) must start with a tab."
   ]
  },
  {
   "cell_type": "code",
   "execution_count": 31,
   "metadata": {
    "collapsed": false,
    "jupyter": {
     "outputs_hidden": false
    }
   },
   "outputs": [
    {
     "data": {
      "text/plain": [
       "3.605551275463989"
      ]
     },
     "execution_count": 31,
     "metadata": {},
     "output_type": "execute_result"
    }
   ],
   "source": [
    "def pythgorus(a, b):\n",
    "    hypothenus_squared = a**2 + b**2\n",
    "    hypothenus = hypothenus_squared**(1/2)\n",
    "    return hypothenus # return is needed to return a value on calling a function\n",
    "\n",
    "pythgorus(2,3)"
   ]
  },
  {
   "cell_type": "markdown",
   "metadata": {
    "collapsed": false,
    "jupyter": {
     "outputs_hidden": false
    }
   },
   "source": [
    "It is common practice to provide functions with a discription using a string block, see below. I recommend using Numpy style docstrings see [https://sphinxcontrib-napoleon.readthedocs.io/en/latest/example_numpy.html](https://sphinxcontrib-napoleon.readthedocs.io/en/latest/example_numpy.html)."
   ]
  },
  {
   "cell_type": "code",
   "execution_count": 32,
   "metadata": {
    "collapsed": false,
    "jupyter": {
     "outputs_hidden": false
    }
   },
   "outputs": [],
   "source": [
    "def pythgorus(a, b):\n",
    "    \"\"\"\n",
    "    Calculates length hypotenues using Pythagorus therom.\n",
    "\n",
    "    Parameters\n",
    "    ----------\n",
    "    a : int or float\n",
    "        Length of side a of triangle.\n",
    "    b : int or float\n",
    "        Length of side b of triangle.\n",
    "\n",
    "    Returns\n",
    "    -------\n",
    "    hypothenus : float\n",
    "        Length of hypothenus\n",
    "    \"\"\"\n",
    "    hypothenus_squared = a**2 + b**2\n",
    "    hypothenus = hypothenus_squared**(1/2)\n",
    "    return hypothenus"
   ]
  },
  {
   "cell_type": "markdown",
   "metadata": {
    "collapsed": false,
    "jupyter": {
     "outputs_hidden": false
    }
   },
   "source": [
    "You can use variable names explicitly in entering values into a function (this can be done out of the order in the function definition):"
   ]
  },
  {
   "cell_type": "code",
   "execution_count": 33,
   "metadata": {
    "collapsed": false,
    "jupyter": {
     "outputs_hidden": false
    }
   },
   "outputs": [
    {
     "data": {
      "text/plain": [
       "4.47213595499958"
      ]
     },
     "execution_count": 33,
     "metadata": {},
     "output_type": "execute_result"
    }
   ],
   "source": [
    "pythgorus(b=4,a=2)"
   ]
  },
  {
   "cell_type": "markdown",
   "metadata": {
    "collapsed": false,
    "jupyter": {
     "outputs_hidden": false
    }
   },
   "source": [
    "Lists can be unpacked into a function with `*`."
   ]
  },
  {
   "cell_type": "code",
   "execution_count": 34,
   "metadata": {
    "collapsed": false,
    "jupyter": {
     "outputs_hidden": false
    }
   },
   "outputs": [
    {
     "data": {
      "text/plain": [
       "3.605551275463989"
      ]
     },
     "execution_count": 34,
     "metadata": {},
     "output_type": "execute_result"
    }
   ],
   "source": [
    "a_and_b = [2,3]\n",
    "pythgorus(*a_and_b)"
   ]
  },
  {
   "cell_type": "markdown",
   "metadata": {
    "collapsed": false,
    "jupyter": {
     "outputs_hidden": false
    }
   },
   "source": [
    "This can also be done with dictionaries using `**`."
   ]
  },
  {
   "cell_type": "code",
   "execution_count": 35,
   "metadata": {
    "collapsed": false,
    "jupyter": {
     "outputs_hidden": false
    }
   },
   "outputs": [
    {
     "data": {
      "text/plain": [
       "3.605551275463989"
      ]
     },
     "execution_count": 35,
     "metadata": {},
     "output_type": "execute_result"
    }
   ],
   "source": [
    "a_and_b = {'b':2, 'a':3}\n",
    "pythgorus(**a_and_b)"
   ]
  },
  {
   "cell_type": "markdown",
   "metadata": {
    "collapsed": false,
    "jupyter": {
     "outputs_hidden": false
    }
   },
   "source": [
    "## 3.2 Conditions\n",
    "\n",
    "Condition statements are extermely useful in coding. The two basic statements are `if` and `else`:\n",
    "*Note* again like with functions the lines after an if and else statement must start with a tab."
   ]
  },
  {
   "cell_type": "code",
   "execution_count": 36,
   "metadata": {
    "collapsed": false,
    "jupyter": {
     "outputs_hidden": false
    }
   },
   "outputs": [
    {
     "data": {
      "text/plain": [
       "'You are engaged.'"
      ]
     },
     "metadata": {},
     "output_type": "display_data"
    }
   ],
   "source": [
    "is_this_tutorial_to_basic = False\n",
    "if is_this_tutorial_to_basic:\n",
    "    your_state = 'bored'\n",
    "else:\n",
    "    your_state = 'engaged'\n",
    "\n",
    "display('You are '+ your_state + '.')"
   ]
  },
  {
   "cell_type": "markdown",
   "metadata": {
    "collapsed": false,
    "jupyter": {
     "outputs_hidden": false
    }
   },
   "source": [
    "The `if` `else` statements above can be swapped with the use of a `not` statement:"
   ]
  },
  {
   "cell_type": "code",
   "execution_count": 37,
   "metadata": {
    "collapsed": false,
    "jupyter": {
     "outputs_hidden": false
    }
   },
   "outputs": [
    {
     "data": {
      "text/plain": [
       "'You are bored.'"
      ]
     },
     "metadata": {},
     "output_type": "display_data"
    }
   ],
   "source": [
    "is_this_tutorial_to_basic = True\n",
    "if not is_this_tutorial_to_basic:\n",
    "    your_state = 'engaged'\n",
    "else:\n",
    "    your_state = 'bored'\n",
    "\n",
    "display('You are '+ your_state + '.')"
   ]
  },
  {
   "cell_type": "markdown",
   "metadata": {
    "collapsed": false,
    "jupyter": {
     "outputs_hidden": false
    }
   },
   "source": [
    "Python adds a combination statement of else and if called elif."
   ]
  },
  {
   "cell_type": "code",
   "execution_count": 38,
   "metadata": {
    "collapsed": false,
    "jupyter": {
     "outputs_hidden": false
    }
   },
   "outputs": [
    {
     "data": {
      "text/plain": [
       "'You are getting tired.'"
      ]
     },
     "metadata": {},
     "output_type": "display_data"
    }
   ],
   "source": [
    "is_this_tutorial_to_basic = False\n",
    "do_we_need_a_break_in_few_mins = True\n",
    "\n",
    "if is_this_tutorial_to_basic:\n",
    "    your_state = 'bored'\n",
    "elif do_we_need_a_break_in_few_mins:\n",
    "    your_state = 'getting tired'\n",
    "else:\n",
    "    your_state = 'engaged'\n",
    "\n",
    "display('You are '+ your_state + '.')"
   ]
  },
  {
   "cell_type": "markdown",
   "metadata": {
    "collapsed": false,
    "jupyter": {
     "outputs_hidden": false
    }
   },
   "source": [
    "There also `and` statements."
   ]
  },
  {
   "cell_type": "code",
   "execution_count": 39,
   "metadata": {
    "collapsed": false,
    "jupyter": {
     "outputs_hidden": false
    }
   },
   "outputs": [
    {
     "data": {
      "text/plain": [
       "'You are getting tired.'"
      ]
     },
     "metadata": {},
     "output_type": "display_data"
    }
   ],
   "source": [
    "if not is_this_tutorial_to_basic and do_we_need_a_break_in_few_mins:\n",
    "    your_state = 'getting tired'\n",
    "\n",
    "\n",
    "display('You are '+ your_state + '.')"
   ]
  },
  {
   "cell_type": "markdown",
   "metadata": {
    "collapsed": false,
    "jupyter": {
     "outputs_hidden": false
    }
   },
   "source": [
    "`or` statements as well."
   ]
  },
  {
   "cell_type": "code",
   "execution_count": 40,
   "metadata": {
    "collapsed": false,
    "jupyter": {
     "outputs_hidden": false
    }
   },
   "outputs": [
    {
     "data": {
      "text/plain": [
       "'We will take a break after section 3.3.'"
      ]
     },
     "execution_count": 40,
     "metadata": {},
     "output_type": "execute_result"
    }
   ],
   "source": [
    "tired = True\n",
    "needing_toilet = True\n",
    "\n",
    "if tired or needing_toilet:\n",
    "    decision = 'We will take a break after section 3.3.'\n",
    "else:\n",
    "    decision = 'We will not take a break.'\n",
    "\n",
    "decision"
   ]
  },
  {
   "cell_type": "markdown",
   "metadata": {
    "collapsed": false,
    "jupyter": {
     "outputs_hidden": false
    }
   },
   "source": [
    "You may also want to look up the `any` and `all` functions that check if any or all elements of a collection are True, respectively.\n",
    "\n",
    "## 3.3 Function with conditional statements.\n",
    "\n",
    "It is a common practice in python to use default arguments to triger conditional statements:"
   ]
  },
  {
   "cell_type": "code",
   "execution_count": 41,
   "metadata": {
    "collapsed": false,
    "jupyter": {
     "outputs_hidden": false
    }
   },
   "outputs": [
    {
     "data": {
      "text/plain": [
       "(3.605551275463989, 'hello')"
      ]
     },
     "execution_count": 41,
     "metadata": {},
     "output_type": "execute_result"
    }
   ],
   "source": [
    "def pythgorus_and_hello(a, b, return_hello_statement=True):\n",
    "    \"\"\"\n",
    "    Calculates length hypotenues using Pythagorus therom.\n",
    "\n",
    "    Parameters\n",
    "    ----------\n",
    "    a : int or float\n",
    "        Length of side a of triangle.\n",
    "    b : int or float\n",
    "        Length of side b of triangle.\n",
    "    return_hello_statement : bool (default=True)\n",
    "        Returns additional hello statement.\n",
    "\n",
    "    Returns\n",
    "    -------\n",
    "    hypothenus : float\n",
    "        Length of hypothenus\n",
    "    \"\"\"\n",
    "    hypothenus_squared = a**2 + b**2\n",
    "    hypothenus = hypothenus_squared**(1/2)\n",
    "    if return_hello_statement:\n",
    "        return hypothenus, 'hello'\n",
    "    else:\n",
    "        return hypothenus\n",
    "\n",
    "pythgorus_and_hello(**a_and_b)"
   ]
  },
  {
   "cell_type": "code",
   "execution_count": 42,
   "metadata": {
    "collapsed": false,
    "jupyter": {
     "outputs_hidden": false
    }
   },
   "outputs": [
    {
     "data": {
      "text/plain": [
       "3.605551275463989"
      ]
     },
     "execution_count": 42,
     "metadata": {},
     "output_type": "execute_result"
    }
   ],
   "source": [
    "pythgorus_and_hello(**a_and_b, return_hello_statement=False)"
   ]
  },
  {
   "cell_type": "markdown",
   "metadata": {
    "collapsed": false,
    "jupyter": {
     "outputs_hidden": false
    }
   },
   "source": [
    "# 4. Classes\n",
    "\n",
    "## 4.1 Defining a Class and Initilising its Instances.\n",
    "\n",
    "As well as functions python allows you to create your own types called classes.\n",
    "\n",
    "Here is a simple class\n",
    "\n",
    "**Note** that like when defining a function all but the definining line must start with a tab."
   ]
  },
  {
   "cell_type": "code",
   "execution_count": 57,
   "metadata": {
    "collapsed": false,
    "jupyter": {
     "outputs_hidden": false
    }
   },
   "outputs": [],
   "source": [
    "class SimpleLine: # Class names should be written in camel case.\n",
    "\n",
    "    name = 'line' # classes can have properties.\n",
    "\n",
    "    def __init__(self, length): # Classes have associated functions called methods. The method __init__ is responsible for generating an instance of the class.\n",
    "        \"\"\"\n",
    "        For instances of this class init gives them the property of length.\n",
    "\n",
    "        Parameters\n",
    "        ----------\n",
    "        length : float or int\n",
    "            Must be greater than 0.\n",
    "        \"\"\"\n",
    "        if not isinstance(length,(int,float)): # this check if length is an int or float.\n",
    "            raise TypeError('Length must be float or an int.') # This line raises a type error.\n",
    "        if length <= 0:\n",
    "            raise ValueError('Length must be greater than 0.')\n",
    "        self.len = length # 'self' refers to the instance of the class.\n",
    "\n",
    "    def __str__(self): # __str__ is a special function that is called when the print function is called on an object.\n",
    "        return \"I am a \" + self.name + '.'\n",
    "\n",
    "    def __len__(self):\n",
    "        return self.len # __len__ is a special function that is called when the len function is called on an object."
   ]
  },
  {
   "cell_type": "code",
   "execution_count": 58,
   "metadata": {
    "collapsed": false,
    "jupyter": {
     "outputs_hidden": false
    }
   },
   "outputs": [
    {
     "name": "stdout",
     "output_type": "stream",
     "text": [
      "I am a line.\n"
     ]
    }
   ],
   "source": [
    "liney = SimpleLine(5)\n",
    "print(liney)"
   ]
  },
  {
   "cell_type": "code",
   "execution_count": 60,
   "metadata": {
    "collapsed": false,
    "jupyter": {
     "outputs_hidden": false
    }
   },
   "outputs": [
    {
     "data": {
      "text/plain": [
       "'Liney is a line of length 5'"
      ]
     },
     "metadata": {},
     "output_type": "display_data"
    }
   ],
   "source": [
    "display('Liney is a '+liney.name + ' of length '+str(len(liney)))"
   ]
  },
  {
   "cell_type": "markdown",
   "metadata": {
    "collapsed": false,
    "jupyter": {
     "outputs_hidden": false
    }
   },
   "source": [
    "As with functions it is common practice to provide classes and methods with a discription using a string block. I recommend using Numpy style docstrings see [https://sphinxcontrib-napoleon.readthedocs.io/en/latest/example_numpy.html](https://sphinxcontrib-napoleon.readthedocs.io/en/latest/example_numpy.html)."
   ]
  },
  {
   "cell_type": "markdown",
   "metadata": {
    "collapsed": false,
    "jupyter": {
     "outputs_hidden": false
    }
   },
   "source": [
    "Try initilising an instance of a Simple line with a string type or a negtive float:"
   ]
  },
  {
   "cell_type": "code",
   "execution_count": 63,
   "metadata": {
    "collapsed": false,
    "jupyter": {
     "outputs_hidden": false
    }
   },
   "outputs": [],
   "source": [
    "test = SimpleLine(9)"
   ]
  },
  {
   "cell_type": "markdown",
   "metadata": {
    "collapsed": false,
    "jupyter": {
     "outputs_hidden": false
    }
   },
   "source": [
    "## 4.2. Inheritance and Custom Methods\n",
    "\n",
    "Classes can inherit properties from a parent class and can have more customizable methods."
   ]
  },
  {
   "cell_type": "code",
   "execution_count": 47,
   "metadata": {
    "collapsed": false,
    "jupyter": {
     "outputs_hidden": false
    }
   },
   "outputs": [],
   "source": [
    "class Square(SimpleLine): # This new square class is inheriting from SimpleLine.\n",
    "    name = 'square' # this overwrites the name property from SimpleLine.\n",
    "\n",
    "    def __init__(self, length):\n",
    "        super().__init__(length)\n",
    "        self.area = self.len**2\n",
    "\n",
    "    def volume_if_i_had_depth(self, depth):\n",
    "        \"\"\"\n",
    "        Returns volume of a rectangular cuboid with this square on two sides.\n",
    "\n",
    "        Parameters\n",
    "        ----------\n",
    "        depth : float or int\n",
    "            Must be greater than 0.\n",
    "\n",
    "        Returns\n",
    "        -------\n",
    "        volume: float\n",
    "        \"\"\"\n",
    "        if not isinstance(depth,(int,float)):\n",
    "            raise TypeError('depth must be float or an int.')\n",
    "        if depth <= 0:\n",
    "            raise ValueError('depth must be greater than 0.')\n",
    "        return self.area*depth"
   ]
  },
  {
   "cell_type": "code",
   "execution_count": 48,
   "metadata": {
    "collapsed": false,
    "jupyter": {
     "outputs_hidden": false
    }
   },
   "outputs": [
    {
     "data": {
      "text/plain": [
       "'square'"
      ]
     },
     "metadata": {},
     "output_type": "display_data"
    },
    {
     "data": {
      "text/plain": [
       "3"
      ]
     },
     "metadata": {},
     "output_type": "display_data"
    },
    {
     "data": {
      "text/plain": [
       "54"
      ]
     },
     "metadata": {},
     "output_type": "display_data"
    }
   ],
   "source": [
    "squarey = Square(3)\n",
    "display(squarey.name,len(squarey),squarey.volume_if_i_had_depth(6))"
   ]
  },
  {
   "cell_type": "markdown",
   "metadata": {
    "collapsed": false,
    "jupyter": {
     "outputs_hidden": false
    }
   },
   "source": [
    "# 5. Loops\n",
    "\n",
    "## 5.1 For loops\n",
    "\n",
    "For loops allow you to repeat an action on all the items of an iterable such as ranges, lists and tupples.\n",
    "\n",
    "For example to create a factorial function you can use a for loop with range:\n",
    "**Note** again the body of the for loop needs a tab."
   ]
  },
  {
   "cell_type": "code",
   "execution_count": 49,
   "metadata": {
    "collapsed": false,
    "jupyter": {
     "outputs_hidden": false
    }
   },
   "outputs": [
    {
     "data": {
      "text/plain": [
       "720"
      ]
     },
     "execution_count": 49,
     "metadata": {},
     "output_type": "execute_result"
    }
   ],
   "source": [
    "def factorial(number):\n",
    "    if not isinstance(number,int):\n",
    "        raise TypeError('number must be an int.')\n",
    "    if number < 0:\n",
    "        raise ValueError('number must not be negative.')\n",
    "\n",
    "    ans = 1\n",
    "    for i in range(number,0,-1):\n",
    "        ans *= i\n",
    "\n",
    "    return ans\n",
    "\n",
    "factorial(6)"
   ]
  },
  {
   "cell_type": "markdown",
   "metadata": {
    "collapsed": false,
    "jupyter": {
     "outputs_hidden": false
    }
   },
   "source": [
    "Dictionaries can be used in for loops through the methods `keys`, `values`, and `items`."
   ]
  },
  {
   "cell_type": "code",
   "execution_count": 50,
   "metadata": {
    "collapsed": false,
    "jupyter": {
     "outputs_hidden": false
    }
   },
   "outputs": [
    {
     "data": {
      "text/plain": [
       "['one', 'three']"
      ]
     },
     "metadata": {},
     "output_type": "display_data"
    },
    {
     "data": {
      "text/plain": [
       "[1, 2]"
      ]
     },
     "metadata": {},
     "output_type": "display_data"
    },
    {
     "data": {
      "text/plain": [
       "{'one': 1}"
      ]
     },
     "metadata": {},
     "output_type": "display_data"
    }
   ],
   "source": [
    "numbers_dict = {\"one\": 1, \"two\": 2, \"three\": 3, \"four\": 4}\n",
    "filter_num = 3\n",
    "filter_let = 'e'\n",
    "\n",
    "filtered_keys = []\n",
    "for key in numbers_dict.keys():\n",
    "    if 'e' in key:\n",
    "        filtered_keys.append(key)\n",
    "\n",
    "filtered_values = []\n",
    "for value in numbers_dict.values():\n",
    "    if value <3:\n",
    "        filtered_values.append(value)\n",
    "\n",
    "filtered_dict = {}\n",
    "for key, value in numbers_dict.items():\n",
    "    if 'e' in key and value <3:\n",
    "        filtered_dict[key] = value\n",
    "\n",
    "display(filtered_keys,filtered_values,filtered_dict)"
   ]
  },
  {
   "cell_type": "markdown",
   "metadata": {
    "collapsed": false,
    "jupyter": {
     "outputs_hidden": false
    }
   },
   "source": [
    "You can use for loops to create dictionaries and lists. This is usually much Faster and uses less code, see below:"
   ]
  },
  {
   "cell_type": "code",
   "execution_count": 51,
   "metadata": {
    "collapsed": false,
    "jupyter": {
     "outputs_hidden": false
    }
   },
   "outputs": [
    {
     "data": {
      "text/plain": [
       "['one', 'three']"
      ]
     },
     "metadata": {},
     "output_type": "display_data"
    },
    {
     "data": {
      "text/plain": [
       "[1, 2]"
      ]
     },
     "metadata": {},
     "output_type": "display_data"
    },
    {
     "data": {
      "text/plain": [
       "{'one': 1}"
      ]
     },
     "metadata": {},
     "output_type": "display_data"
    }
   ],
   "source": [
    "filtered_keys = [key for key in numbers_dict.keys() if 'e' in key]\n",
    "filtered_values = [value for value in numbers_dict.values() if value <3]\n",
    "filtered_dict = {key:value for key, value in numbers_dict.items() if 'e' in key and value <3}\n",
    "\n",
    "display(filtered_keys,filtered_values,filtered_dict)"
   ]
  },
  {
   "cell_type": "markdown",
   "metadata": {
    "collapsed": false,
    "jupyter": {
     "outputs_hidden": false
    }
   },
   "source": [
    "**Useful things to look up when using for loops.**\n",
    "1. `enumerate` this built-in function generates an index of where the for loop is up to.\n",
    "2. The package tqdm is very useful for generating progress bars for loops."
   ]
  },
  {
   "cell_type": "markdown",
   "metadata": {
    "collapsed": false,
    "jupyter": {
     "outputs_hidden": false
    }
   },
   "source": [
    "# 5.2 While loops\n",
    "\n",
    "While loops are similar to for loops but will continue doing a process until they reach a stop condition. I have rewriten the factorial function using a while loop."
   ]
  },
  {
   "cell_type": "code",
   "execution_count": 52,
   "metadata": {
    "collapsed": false,
    "jupyter": {
     "outputs_hidden": false
    }
   },
   "outputs": [
    {
     "data": {
      "text/plain": [
       "720"
      ]
     },
     "execution_count": 52,
     "metadata": {},
     "output_type": "execute_result"
    }
   ],
   "source": [
    "def factorial2(number):\n",
    "    if not isinstance(number,int):\n",
    "        raise TypeError('number must be an int.')\n",
    "    if number < 0:\n",
    "        raise ValueError('number must not be negative.')\n",
    "\n",
    "    ans = 1\n",
    "    while number>0: # This means do lines with an extra tab below while number>0.\n",
    "        ans *= number\n",
    "        number -= 1\n",
    "\n",
    "    return ans\n",
    "\n",
    "factorial2(6)"
   ]
  },
  {
   "cell_type": "markdown",
   "metadata": {
    "collapsed": false,
    "jupyter": {
     "outputs_hidden": false
    }
   },
   "source": [
    "# 6. Importing packages\n",
    "\n",
    "Libraries or packages of useful functions and classes can be imported in the following manner:"
   ]
  },
  {
   "cell_type": "code",
   "execution_count": 53,
   "metadata": {
    "collapsed": false,
    "jupyter": {
     "outputs_hidden": false
    }
   },
   "outputs": [],
   "source": [
    "import numpy\n",
    "import numpy as np # Here we have imported pandas the as function allows us to use np to refer to pandas.\n",
    "from numpy import arange # Here we are importing the function arange from numpy"
   ]
  },
  {
   "cell_type": "markdown",
   "metadata": {
    "collapsed": false,
    "jupyter": {
     "outputs_hidden": false
    }
   },
   "source": [
    "We can now access arange through either"
   ]
  },
  {
   "cell_type": "code",
   "execution_count": 54,
   "metadata": {
    "collapsed": false,
    "jupyter": {
     "outputs_hidden": false
    }
   },
   "outputs": [
    {
     "data": {
      "text/plain": [
       "array([2. , 2.5, 3. , 3.5, 4. , 4.5])"
      ]
     },
     "execution_count": 54,
     "metadata": {},
     "output_type": "execute_result"
    }
   ],
   "source": [
    "arange(2,5,0.5)"
   ]
  },
  {
   "cell_type": "markdown",
   "metadata": {
    "collapsed": false,
    "jupyter": {
     "outputs_hidden": false
    }
   },
   "source": [
    "Or"
   ]
  },
  {
   "cell_type": "code",
   "execution_count": 55,
   "metadata": {
    "collapsed": false,
    "jupyter": {
     "outputs_hidden": false
    }
   },
   "outputs": [
    {
     "data": {
      "text/plain": [
       "array([2.  , 2.25, 2.5 , 2.75])"
      ]
     },
     "execution_count": 55,
     "metadata": {},
     "output_type": "execute_result"
    }
   ],
   "source": [
    "np.arange(2,3,0.25)"
   ]
  },
  {
   "cell_type": "markdown",
   "metadata": {
    "collapsed": false,
    "jupyter": {
     "outputs_hidden": false
    }
   },
   "source": [
    "or"
   ]
  },
  {
   "cell_type": "code",
   "execution_count": 56,
   "metadata": {
    "collapsed": false,
    "jupyter": {
     "outputs_hidden": false
    }
   },
   "outputs": [
    {
     "data": {
      "text/plain": [
       "array([2. , 2.1, 2.2, 2.3, 2.4])"
      ]
     },
     "execution_count": 56,
     "metadata": {},
     "output_type": "execute_result"
    }
   ],
   "source": [
    "numpy.arange(2,2.5,0.1)"
   ]
  },
  {
   "cell_type": "code",
   "execution_count": null,
   "metadata": {
    "collapsed": false,
    "jupyter": {
     "outputs_hidden": false
    }
   },
   "outputs": [],
   "source": []
  }
 ],
 "metadata": {
  "kernelspec": {
   "display_name": "Python 3 (ipykernel)",
   "language": "python",
   "name": "python3"
  },
  "language_info": {
   "codemirror_mode": {
    "name": "ipython",
    "version": 3
   },
   "file_extension": ".py",
   "mimetype": "text/x-python",
   "name": "python",
   "nbconvert_exporter": "python",
   "pygments_lexer": "ipython3",
   "version": "3.11.7"
  }
 },
 "nbformat": 4,
 "nbformat_minor": 4
}
