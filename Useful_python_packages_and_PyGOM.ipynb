{
 "cells": [
  {
   "cell_type": "markdown",
   "metadata": {
    "collapsed": false,
    "jupyter": {
     "outputs_hidden": false
    }
   },
   "source": [
    "# Python and PyGOM Tutorial\n",
    "\n",
    "By Martin Grunnill\n",
    "Given on 16<sup>th</sup> January as part of York University's Practicum in Industrial and Applied Math.\n",
    "\n",
    "Python is one of the most commonly used coding languages, hosting an extensive array of packages in Data Science, Mathematics and Machine Learning. With a syntax that emphasis readability, Python is considered one of the easiest coding languages to learn. It is also free and open source. Therefore, Python code produced in a research project can be more easily shared with others and is more accessible outside of academic institutions.\n",
    "\n",
    "This Jupyter notebook is divided into three sections:\n",
    "1. Will then introduce the package Numpy and Pandas. Numpy provides support for handling multidimensional arrays and matrices. Pandas provides access to Dataframe and Serries objects. Dataframes being similar to spreadsheets, with Serries being a one-dimensional variant.\n",
    "2. The final section of this class with introduce PyGOM. PyGOM provides a toolbox for modeling with Ordinary Differential Equations (ODEs). Having been developed by the UK Health Security Agency, PyGOM has an emphasis on epidemiological modelling. Providing functionality not only for solving ODEs, parameter estimation and stochastic simulation, but methods for deriving the basic reproduction number R0."
   ]
  },
  {
   "cell_type": "markdown",
   "metadata": {
    "collapsed": false,
    "jupyter": {
     "outputs_hidden": false
    }
   },
   "source": [
    "# 1. Jupyter Notebooks and the Basics of Python\n",
    "## 1.1 Jupyter Notebooks: A very brief introduction\n",
    "\n",
    "We have limited time so this section will only cover enough on Jupyter notebooks to run the tutorial and point you to some extra reading on them.\n",
    "Jupyter notebooks provide an excellent medium for documenting data analysis and providing demonstrations of code in action (such as this tutorial). This due to Jupyter notebooks being structured around 2 types cells. The first type of cell allows for markdown text, as is used in this cell. The second type allows for code and will display any output from the cell below it. Try running the code cell below by clicking the cell and then pressing Shift+Enter. You can even replace the output by replacing the text. To do this click on the cell replace the text and hit shift+enter."
   ]
  },
  {
   "cell_type": "code",
   "execution_count": 8,
   "metadata": {
    "collapsed": false,
    "jupyter": {
     "outputs_hidden": false
    }
   },
   "outputs": [
    {
     "name": "stdout",
     "output_type": "stream",
     "text": [
      "Hello World\n"
     ]
    }
   ],
   "source": [
    "# Click me, then press shift+enter and the statement in quotations should then appear below.\n",
    "print('Hello World')"
   ]
  },
  {
   "cell_type": "markdown",
   "metadata": {
    "collapsed": false,
    "jupyter": {
     "outputs_hidden": false
    }
   },
   "source": [
    "Markdown cells can be edited by double clicking on them. To render them back into display text hit shift+enter. For a cheatsheet on markdown see:\n",
    "* [https://www.ibm.com/docs/en/watson-studio-local/1.2.3?topic=notebooks-markdown-jupyter-cheatsheet](https://www.ibm.com/docs/en/watson-studio-local/1.2.3?topic=notebooks-markdown-jupyter-cheatsheet)"
   ],
   "outputs": []
  },
  {
   "cell_type": "markdown",
   "source": [
    "Shortcuts for Jupyter notebooks run in a browser can be found under help->show keyboard shortcuts. These shortcuts maybe different in running a Jupyter notebook in an IDE such as PyCharm or VS code."
   ],
   "metadata": {
    "collapsed": false
   }
  },
  {
   "cell_type": "markdown",
   "metadata": {},
   "source": [
    "The Jupyter project name comes from the coding languages Julia, Python and R. As such Jupyter notebooks can be setup to use those languages and many [others](https://github.com/jupyter/jupyter/wiki/Jupyter-kernels). You can even use multiple languages in the same notebook through using the command `%%` followed by the name of the language, on the first line of a cell. For a tutorials on using R within a Python based notebook see:\n",
    "* [https://anderfernandez.com/en/blog/how-to-program-with-python-and-r-in-the-same-jupyter-notebook/](https://anderfernandez.com/en/blog/how-to-program-with-python-and-r-in-the-same-jupyter-notebook/)\n",
    "* [https://www.askpython.com/python/examples/use-r-and-python-in-the-same-notebook](https://www.askpython.com/python/examples/use-r-and-python-in-the-same-notebook)"
   ]
  },
  {
   "cell_type": "markdown",
   "source": [
    "## 1.2 Basics of Python\n",
    "### 1.2.1 Comments and block comments.\n",
    "\n",
    "Single comments can be put into python code using #. This tells python to ignore all text after #. For example the last line of the code cell below is not read by python."
   ],
   "metadata": {
    "collapsed": false
   },
   "outputs": []
  },
  {
   "cell_type": "code",
   "execution_count": 9,
   "outputs": [
    {
     "name": "stdout",
     "output_type": "stream",
     "text": [
      "Hello\n"
     ]
    }
   ],
   "source": [
    "# Not read by ptyhon.\n",
    "print('Hello')\n",
    "# Also not read by ptyhon."
   ],
   "metadata": {
    "collapsed": false
   }
  },
  {
   "cell_type": "markdown",
   "source": [
    "Similarly, text between the block quotes ''' ''' and \"\"\" \"\"\" is also not read, see example below."
   ],
   "metadata": {
    "collapsed": false
   }
  },
  {
   "cell_type": "code",
   "execution_count": 10,
   "outputs": [
    {
     "name": "stdout",
     "output_type": "stream",
     "text": [
      "Hello\n"
     ]
    }
   ],
   "source": [
    "\"\"\"\"\n",
    "Not\n",
    "read\n",
    "by\n",
    "python.\n",
    "\"\"\"\n",
    "''' Also Not read by python. '''\n",
    "print('Hello')"
   ],
   "metadata": {
    "collapsed": false
   }
  },
  {
   "cell_type": "markdown",
   "source": [
    "### 1.2.2 Basic types\n",
    "#### 1.2.2.1 Numeric Types\n",
    "\n",
    "As this is part of a Practicum in Industrial and Applied Math course some of the most common basic type you will be dealing with are ints and floats. Lets assign a float and int to variable."
   ],
   "metadata": {
    "collapsed": false
   }
  },
  {
   "cell_type": "code",
   "execution_count": 11,
   "outputs": [],
   "source": [
    "forty_two = 42\n",
    "pi_ish = 3.14"
   ],
   "metadata": {
    "collapsed": false
   }
  },
  {
   "cell_type": "markdown",
   "source": [
    "The in built function `type` can tell you what type a variable is. Replace the pi_sih with forty_two to see which type forty_two is."
   ],
   "metadata": {
    "collapsed": false
   }
  },
  {
   "cell_type": "code",
   "execution_count": 12,
   "outputs": [
    {
     "data": {
      "text/plain": "float"
     },
     "execution_count": 12,
     "metadata": {},
     "output_type": "execute_result"
    }
   ],
   "source": [
    "type(pi_ish)"
   ],
   "metadata": {
    "collapsed": false
   }
  },
  {
   "cell_type": "markdown",
   "source": [
    "Basic mathmatical operations are demonstrated below.\n",
    "**Note** the `display` function on the last line is a Jupyter notebook function that behaves similar way to print."
   ],
   "metadata": {
    "collapsed": false
   }
  },
  {
   "cell_type": "code",
   "execution_count": 13,
   "outputs": [
    {
     "data": {
      "text/plain": "45.14"
     },
     "metadata": {},
     "output_type": "display_data"
    },
    {
     "data": {
      "text/plain": "38.86"
     },
     "metadata": {},
     "output_type": "display_data"
    },
    {
     "data": {
      "text/plain": "131.88"
     },
     "metadata": {},
     "output_type": "display_data"
    },
    {
     "data": {
      "text/plain": "13.375796178343949"
     },
     "metadata": {},
     "output_type": "display_data"
    },
    {
     "data": {
      "text/plain": "125026.7009920332"
     },
     "metadata": {},
     "output_type": "display_data"
    },
    {
     "data": {
      "text/plain": "3.2882011185496975"
     },
     "metadata": {},
     "output_type": "display_data"
    }
   ],
   "source": [
    "# Addition\n",
    "add_exmpl= forty_two + pi_ish\n",
    "# Subtraction\n",
    "sub_exmpl = forty_two - pi_ish\n",
    "# Multiplication\n",
    "multiplication_exmple = forty_two * pi_ish\n",
    "# Devision\n",
    "devision_example = forty_two / pi_ish\n",
    "# Powers\n",
    "power_example = forty_two**pi_ish\n",
    "# Roots\n",
    "root_example = forty_two**(1/pi_ish)\n",
    "display(add_exmpl, sub_exmpl, multiplication_exmple, devision_example, power_example, root_example)"
   ],
   "metadata": {
    "collapsed": false
   }
  },
  {
   "cell_type": "markdown",
   "source": [
    "A further note on addition. Numeric types can be added to using `+=` assignment:"
   ],
   "metadata": {
    "collapsed": false
   }
  },
  {
   "cell_type": "code",
   "execution_count": 14,
   "outputs": [
    {
     "data": {
      "text/plain": "5"
     },
     "metadata": {},
     "output_type": "display_data"
    }
   ],
   "source": [
    "a_number = 3\n",
    "a_number += 2\n",
    "display(a_number)"
   ],
   "metadata": {
    "collapsed": false
   }
  },
  {
   "cell_type": "markdown",
   "source": [
    "#### 1.2.2.2 Boolean values\n",
    "\n",
    "Bool types (short for Boolean values) can be assianed through `True` or `False`. See what happens what happens when you perform mathmatical operations on bool types:"
   ],
   "metadata": {
    "collapsed": false
   }
  },
  {
   "cell_type": "code",
   "execution_count": 16,
   "outputs": [
    {
     "data": {
      "text/plain": "True"
     },
     "metadata": {},
     "output_type": "display_data"
    },
    {
     "data": {
      "text/plain": "False"
     },
     "metadata": {},
     "output_type": "display_data"
    },
    {
     "data": {
      "text/plain": "1"
     },
     "metadata": {},
     "output_type": "display_data"
    },
    {
     "data": {
      "text/plain": "2"
     },
     "metadata": {},
     "output_type": "display_data"
    },
    {
     "data": {
      "text/plain": "0"
     },
     "metadata": {},
     "output_type": "display_data"
    },
    {
     "data": {
      "text/plain": "0"
     },
     "metadata": {},
     "output_type": "display_data"
    },
    {
     "data": {
      "text/plain": "1"
     },
     "metadata": {},
     "output_type": "display_data"
    },
    {
     "data": {
      "text/plain": "0"
     },
     "metadata": {},
     "output_type": "display_data"
    }
   ],
   "source": [
    "a = True\n",
    "b = False\n",
    "display(a, b, a+b, a+a, b+b, a*b, a**2, b**2)"
   ],
   "metadata": {
    "collapsed": false
   }
  },
  {
   "cell_type": "markdown",
   "source": [
    "#### 1.2.2.3 Strings\n",
    "\n",
    "A string is a representation of text within python and must be surrounded by the quotation marks \"\" or '', see example below."
   ],
   "metadata": {
    "collapsed": false
   }
  },
  {
   "cell_type": "code",
   "execution_count": 15,
   "outputs": [
    {
     "data": {
      "text/plain": "'blah'"
     },
     "metadata": {},
     "output_type": "display_data"
    },
    {
     "data": {
      "text/plain": "'A quote from Douglas Adams: \"Dont Panic\"'"
     },
     "metadata": {},
     "output_type": "display_data"
    }
   ],
   "source": [
    "basic_string = \"blah\"\n",
    "qoute_within_string = 'A quote from Douglas Adams: \"Dont Panic\"'\n",
    "display(basic_string, qoute_within_string)"
   ],
   "metadata": {
    "collapsed": false
   }
  },
  {
   "cell_type": "markdown",
   "source": [
    "Strings can be concatanated together with `+`."
   ],
   "metadata": {
    "collapsed": false
   }
  },
  {
   "cell_type": "code",
   "execution_count": 16,
   "outputs": [
    {
     "data": {
      "text/plain": "'Hello there.'"
     },
     "metadata": {},
     "output_type": "display_data"
    }
   ],
   "source": [
    "greetings = 'Hello' + ' ' + 'there.'\n",
    "display(greetings)"
   ],
   "metadata": {
    "collapsed": false
   }
  },
  {
   "cell_type": "markdown",
   "source": [
    "Substrings within a string can be replaced with function `replace`:"
   ],
   "metadata": {
    "collapsed": false
   }
  },
  {
   "cell_type": "code",
   "execution_count": 17,
   "outputs": [
    {
     "data": {
      "text/plain": "'A quote from Douglas Adams: \"Time is an illusion. Lunchtime doubly so.\"'"
     },
     "execution_count": 17,
     "metadata": {},
     "output_type": "execute_result"
    }
   ],
   "source": [
    "new_HGG_qoute = qoute_within_string.replace('\"Dont Panic\"', '\"Time is an illusion. Lunchtime doubly so.\"')\n",
    "new_HGG_qoute"
   ],
   "metadata": {
    "collapsed": false
   }
  },
  {
   "cell_type": "markdown",
   "source": [
    "### 1.2.3 Basic Collections.\n",
    "#### 1.2.3.1 Lists and Tuples\n",
    "\n",
    "Lists are one of the most common basic representation of collections of data in python coding. Any types of variables can be assigned within a list. Lists are created using `[]`:"
   ],
   "metadata": {
    "collapsed": false
   }
  },
  {
   "cell_type": "code",
   "execution_count": 18,
   "outputs": [
    {
     "data": {
      "text/plain": "['foo', 42, 1]"
     },
     "metadata": {},
     "output_type": "display_data"
    }
   ],
   "source": [
    "odds_and_ends = ['foo', forty_two, 1]\n",
    "display(odds_and_ends)"
   ],
   "metadata": {
    "collapsed": false
   }
  },
  {
   "cell_type": "markdown",
   "source": [
    "Single items can be added to the end of lists through the method `append`:"
   ],
   "metadata": {
    "collapsed": false
   }
  },
  {
   "cell_type": "code",
   "execution_count": 19,
   "outputs": [
    {
     "data": {
      "text/plain": "['foo', 42, 1, 'Hello there.']"
     },
     "metadata": {},
     "output_type": "display_data"
    }
   ],
   "source": [
    "odds_and_ends.append(greetings)\n",
    "display(odds_and_ends)"
   ],
   "metadata": {
    "collapsed": false
   }
  },
  {
   "cell_type": "markdown",
   "source": [
    "Lists can be merged/concatenated together:"
   ],
   "metadata": {
    "collapsed": false
   }
  },
  {
   "cell_type": "code",
   "execution_count": 20,
   "outputs": [
    {
     "data": {
      "text/plain": "['one', 2, 1, 'two']"
     },
     "metadata": {},
     "output_type": "display_data"
    },
    {
     "data": {
      "text/plain": "['one', 2, 1, 'two', 'foo', 42, 1, 'Hello there.']"
     },
     "metadata": {},
     "output_type": "display_data"
    },
    {
     "data": {
      "text/plain": "['A quote from Douglas Adams: \"Dont Panic\"',\n 'A quote from Douglas Adams: \"Time is an illusion. Lunchtime doubly so.\"']"
     },
     "metadata": {},
     "output_type": "display_data"
    }
   ],
   "source": [
    "new_list_1 = ['one',2] + [1,'two']\n",
    "new_list_2 = new_list_1 + odds_and_ends\n",
    "new_list_3 = [] # You can assign empty lists\n",
    "new_list_3 += [qoute_within_string,new_HGG_qoute]\n",
    "display(new_list_1, new_list_2, new_list_3)"
   ],
   "metadata": {
    "collapsed": false
   }
  },
  {
   "cell_type": "markdown",
   "source": [
    "Lists can be indexed using `[]`. The first item is indexed via `[0]`, the second `[1]` and so on. The last item can be indexed via `[-1]`, the second to last `[-2]` and so on."
   ],
   "metadata": {
    "collapsed": false
   }
  },
  {
   "cell_type": "code",
   "execution_count": 21,
   "outputs": [
    {
     "data": {
      "text/plain": "'foo'"
     },
     "metadata": {},
     "output_type": "display_data"
    },
    {
     "data": {
      "text/plain": "42"
     },
     "metadata": {},
     "output_type": "display_data"
    },
    {
     "data": {
      "text/plain": "'Hello there.'"
     },
     "metadata": {},
     "output_type": "display_data"
    },
    {
     "data": {
      "text/plain": "1"
     },
     "metadata": {},
     "output_type": "display_data"
    }
   ],
   "source": [
    "display(odds_and_ends[0], odds_and_ends[1], odds_and_ends[-1], odds_and_ends[-2])"
   ],
   "metadata": {
    "collapsed": false
   }
  },
  {
   "cell_type": "markdown",
   "source": [
    "A lists contents can be unpacked into collections at their creation or functions using `*`:"
   ],
   "metadata": {
    "collapsed": false
   }
  },
  {
   "cell_type": "code",
   "execution_count": 22,
   "outputs": [
    {
     "data": {
      "text/plain": "'A quote from Douglas Adams: \"Dont Panic\"'"
     },
     "metadata": {},
     "output_type": "display_data"
    },
    {
     "data": {
      "text/plain": "'A quote from Douglas Adams: \"Time is an illusion. Lunchtime doubly so.\"'"
     },
     "metadata": {},
     "output_type": "display_data"
    }
   ],
   "source": [
    "new_list_4 = [*new_list_3]\n",
    "display(*new_list_4)"
   ],
   "metadata": {
    "collapsed": false
   }
  },
  {
   "cell_type": "markdown",
   "source": [
    "Tuples behave very similar to lists. They are created via `()`."
   ],
   "metadata": {
    "collapsed": false
   }
  },
  {
   "cell_type": "code",
   "execution_count": 25,
   "outputs": [],
   "source": [
    "tuple_1 = ('foo',pi_ish, 2)\n",
    "tuple_2 = ('bah', -1, -forty_two)"
   ],
   "metadata": {
    "collapsed": false
   }
  },
  {
   "cell_type": "markdown",
   "source": [
    "Tuples unlike lists cannot are immutable so the `append` method is absent from them. However, they can be concatanated to make a new tuple:"
   ],
   "metadata": {
    "collapsed": false
   }
  },
  {
   "cell_type": "code",
   "execution_count": 27,
   "outputs": [
    {
     "data": {
      "text/plain": "('foo', 3.14, 2, 'bah', -1, -42)"
     },
     "execution_count": 27,
     "metadata": {},
     "output_type": "execute_result"
    }
   ],
   "source": [
    "tuple_3 = tuple_1 + tuple_2"
   ],
   "metadata": {
    "collapsed": false
   }
  },
  {
   "cell_type": "markdown",
   "source": [
    "#### 1.2.3.2 Range\n",
    "\n",
    "The command `range` will produce a sequence of ints that can be indexed like a list or a tuple. Notice 42 is not the last number in test_range but 41 is."
   ],
   "metadata": {
    "collapsed": false
   }
  },
  {
   "cell_type": "code",
   "execution_count": 4,
   "outputs": [
    {
     "data": {
      "text/plain": "range(0, 42)"
     },
     "metadata": {},
     "output_type": "display_data"
    },
    {
     "data": {
      "text/plain": "0"
     },
     "metadata": {},
     "output_type": "display_data"
    },
    {
     "data": {
      "text/plain": "41"
     },
     "metadata": {},
     "output_type": "display_data"
    }
   ],
   "source": [
    "test_range = range(42)\n",
    "display(test_range, test_range[0], test_range[-1])"
   ],
   "metadata": {
    "collapsed": false
   }
  },
  {
   "cell_type": "markdown",
   "source": [
    "Ranges can start and stop at any int in step sizes that are int values. They can also be unpacked via `*`."
   ],
   "metadata": {
    "collapsed": false
   }
  },
  {
   "cell_type": "code",
   "execution_count": 10,
   "outputs": [
    {
     "data": {
      "text/plain": "2"
     },
     "metadata": {},
     "output_type": "display_data"
    },
    {
     "data": {
      "text/plain": "-1"
     },
     "metadata": {},
     "output_type": "display_data"
    },
    {
     "data": {
      "text/plain": "-4"
     },
     "metadata": {},
     "output_type": "display_data"
    },
    {
     "data": {
      "text/plain": "-7"
     },
     "metadata": {},
     "output_type": "display_data"
    }
   ],
   "source": [
    "test_range2 = range(2,-10,-3)\n",
    "display(*test_range2)"
   ],
   "metadata": {
    "collapsed": false
   }
  },
  {
   "cell_type": "markdown",
   "source": [
    "#### 1.2.3.2 Sets\n",
    "Sets are unordered collections of unique objects, the elements of which cannot be altered. However, sets be added to. To create a set use `{}` or `set`. Personally I prefer  use `set` as it avoids confusion with dictionaries (see later)."
   ],
   "metadata": {
    "collapsed": false
   }
  },
  {
   "cell_type": "code",
   "execution_count": 18,
   "outputs": [
    {
     "data": {
      "text/plain": "{-7, -4, -1, 2}"
     },
     "metadata": {},
     "output_type": "display_data"
    },
    {
     "data": {
      "text/plain": "{2, True, 'a'}"
     },
     "metadata": {},
     "output_type": "display_data"
    }
   ],
   "source": [
    "set_1 = {*test_range2}\n",
    "set_2 = set(['a',2,True])\n",
    "display(set_1,set_2)"
   ],
   "metadata": {
    "collapsed": false
   }
  },
  {
   "cell_type": "markdown",
   "source": [
    "There are multiple operation surrounding sets (most of them taken from set theory). However, sets are not as commonly used in python as lists or dictionaries, see next section. For a guide to set operations see [https://realpython.com/python-sets/](https://realpython.com/python-sets/)."
   ],
   "metadata": {
    "collapsed": false
   }
  },
  {
   "cell_type": "markdown",
   "source": [
    "#### 1.2.3.3 Dictionaries\n",
    "\n",
    "A dictionary is collection of key value pairs. They are created via `{key:value}`:"
   ],
   "metadata": {
    "collapsed": false
   }
  },
  {
   "cell_type": "code",
   "execution_count": 21,
   "outputs": [
    {
     "data": {
      "text/plain": "{'a': 1, 'b': 2}"
     },
     "metadata": {},
     "output_type": "display_data"
    },
    {
     "data": {
      "text/plain": "{1: 'a', 2: 'b'}"
     },
     "metadata": {},
     "output_type": "display_data"
    },
    {
     "data": {
      "text/plain": "{1: 'a', 'b': 2}"
     },
     "metadata": {},
     "output_type": "display_data"
    }
   ],
   "source": [
    "dict_1 = {'a':1, 'b':2} # typically people assign strings to keys, but keys can be other types:\n",
    "dict_2 = {1:'a', 2: 'b'} # or you can have keys of different types:\n",
    "dict_3 = {1:'a', 'b':2}\n",
    "display(dict_1,dict_2,dict_3)"
   ],
   "metadata": {
    "collapsed": false
   }
  },
  {
   "cell_type": "markdown",
   "source": [
    "`dict[key]` indexes a value in a dictionary using the key:"
   ],
   "metadata": {
    "collapsed": false
   }
  },
  {
   "cell_type": "code",
   "execution_count": 30,
   "outputs": [
    {
     "data": {
      "text/plain": "'a'"
     },
     "metadata": {},
     "output_type": "display_data"
    },
    {
     "data": {
      "text/plain": "2"
     },
     "metadata": {},
     "output_type": "display_data"
    }
   ],
   "source": [
    "display(dict_3[1],dict_3['b'])"
   ],
   "metadata": {
    "collapsed": false
   }
  },
  {
   "cell_type": "markdown",
   "source": [
    "Dictionaries can be added to or updated with other dictionaries:"
   ],
   "metadata": {
    "collapsed": false
   }
  },
  {
   "cell_type": "code",
   "execution_count": 25,
   "outputs": [
    {
     "data": {
      "text/plain": "{1: 'a', 2: 'b', 3: 'c'}"
     },
     "metadata": {},
     "output_type": "display_data"
    },
    {
     "data": {
      "text/plain": "{1: 'a', 'b': 2, 2: 'b', 3: 'c'}"
     },
     "metadata": {},
     "output_type": "display_data"
    }
   ],
   "source": [
    "dict_2[3] = 'c'\n",
    "dict_3.update(dict_2)\n",
    "display(dict_2,dict_3)"
   ],
   "metadata": {
    "collapsed": false
   }
  },
  {
   "cell_type": "markdown",
   "source": [
    "Elements of a dictionary can be removed through `del`."
   ],
   "metadata": {
    "collapsed": false
   }
  },
  {
   "cell_type": "code",
   "execution_count": 26,
   "outputs": [
    {
     "data": {
      "text/plain": "{1: 'a', 'b': 2, 2: 'b'}"
     },
     "execution_count": 26,
     "metadata": {},
     "output_type": "execute_result"
    }
   ],
   "source": [
    "del dict_3[3]\n",
    "dict_3"
   ],
   "metadata": {
    "collapsed": false
   }
  },
  {
   "cell_type": "markdown",
   "source": [],
   "metadata": {
    "collapsed": false
   }
  }
 ],
 "metadata": {
  "kernelspec": {
   "display_name": "Python 3 (ipykernel)",
   "language": "python",
   "name": "python3"
  },
  "language_info": {
   "codemirror_mode": {
    "name": "ipython",
    "version": 3
   },
   "file_extension": ".py",
   "mimetype": "text/x-python",
   "name": "python",
   "nbconvert_exporter": "python",
   "pygments_lexer": "ipython3",
   "version": "3.11.7"
  }
 },
 "nbformat": 4,
 "nbformat_minor": 4
}
