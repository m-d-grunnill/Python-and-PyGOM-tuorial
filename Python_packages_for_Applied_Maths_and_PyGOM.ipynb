{
 "cells": [
  {
   "cell_type": "markdown",
   "metadata": {
    "collapsed": false,
    "jupyter": {
     "outputs_hidden": false
    }
   },
   "source": [
    "# Python Packages For Applied Mathematics and PyGOM Tutorial\n",
    "\n",
    "By Martin Grunnill\n",
    "Given on 16<sup>th</sup> January as part of York University's Practicum in Industrial and Applied Math.\n",
    "\n",
    "Python is one of the most commonly used coding languages, hosting an extensive array of packages in Data Science, Mathematics and Machine Learning. With a syntax that emphasis readability, Python is considered one of the easiest coding languages to learn. It is also free and open source. Therefore, Python code produced in a research project can be more easily shared with others and is more accessible outside of academic institutions.\n",
    "\n",
    "This Jupyter notebook is divided into three sections:\n",
    "1. Numpy: provides support for handling multidimensional arrays and matrices.\n",
    "2. Matplotlib: graphical support.\n",
    "3. PyGOM: a toolbox for modeling with Ordinary Differential Equations (ODEs). Having been developed by the UK Health Security Agency, PyGOM has an emphasis on epidemiological modelling. Providing functionality not only for solving ODEs, parameter estimation and stochastic simulation, but methods for deriving the basic reproduction number R0.\n",
    "* Optional:\n",
    "    4. Pandas: provides access to Dataframe and Serries objects. Dataframes being similar to spreadsheets, with Series being a one-dimensional variant.\n",
    "    5. Seaborn:"
   ]
  },
  {
   "cell_type": "markdown",
   "metadata": {
    "collapsed": false,
    "jupyter": {
     "outputs_hidden": false
    }
   },
   "source": [
    "# 1. Numpy\n",
    "\n",
    "At the core of numpy is the ndarray object. Although having similarities to lists (and tupples) in terms of indexing, Ndarrays have some key differences:\n",
    "* They are of a fixed sized from creation (similar to a tupple). Changing the deminsions of a ndarray results in the creation of a new ndarray.\n",
    "* They facilitate mathmatical operations at a much faster speed and with less code.\n",
    "\n",
    "This final point has led to numpy array's being the basis of many python packages in mathematical and scientific computing. As such python based work in this area requires often requires knowledge of numpy arrays.\n",
    "\n",
    "# 1.1 Creating Arrays.\n",
    "\n",
    "Lets import numpy and create some ndarrays."
   ]
  },
  {
   "cell_type": "code",
   "execution_count": 1,
   "outputs": [],
   "source": [
    "import numpy as np # numpy is often shotened to np in coding:\n",
    "\n",
    "array_1d = np.array([2,-1,6, 11, 3.14])"
   ],
   "metadata": {
    "collapsed": false
   }
  },
  {
   "cell_type": "code",
   "execution_count": 2,
   "outputs": [
    {
     "data": {
      "text/plain": "array([ 3.  , -1.  , 11.  ,  3.14])"
     },
     "metadata": {},
     "output_type": "display_data"
    },
    {
     "data": {
      "text/plain": "array([[ 3.  , -1.  ],\n       [11.  ,  3.14]])"
     },
     "metadata": {},
     "output_type": "display_data"
    },
    {
     "data": {
      "text/plain": "array([[[ 3.  , -1.  ,  2.  ],\n        [ 2.  ,  3.14,  3.  ]],\n\n       [[11.  ,  3.14,  8.  ],\n        [10.  , 11.  , 12.  ]]])"
     },
     "metadata": {},
     "output_type": "display_data"
    }
   ],
   "source": [
    "array_1d = np.array([3,-1, 11, 3.14])\n",
    "array_2d = np.array([[ 3, -1 ],\n",
    "                     [11, 3.14]])\n",
    "array_3d = np.array([[[ 3, -1 ,2], [2,3.14,3]], [[11, 3.14, 8], [10,11,12]]])\n",
    "\n",
    "display(array_1d,array_2d,array_3d)"
   ],
   "metadata": {
    "collapsed": false
   }
  },
  {
   "cell_type": "markdown",
   "source": [
    "Arrays of sequences can be generated using `arange` in similar manner to `range`. **Note** this has an advantage over `range` in that it can handle floats."
   ],
   "metadata": {
    "collapsed": false
   }
  },
  {
   "cell_type": "code",
   "execution_count": 3,
   "outputs": [
    {
     "data": {
      "text/plain": "array([2, 3, 4])"
     },
     "metadata": {},
     "output_type": "display_data"
    },
    {
     "data": {
      "text/plain": "array([2.  , 2.25, 2.5 , 2.75])"
     },
     "metadata": {},
     "output_type": "display_data"
    }
   ],
   "source": [
    "display(np.arange(2,5), np.arange(2,3,0.25))"
   ],
   "metadata": {
    "collapsed": false
   }
  },
  {
   "cell_type": "markdown",
   "source": [
    "There are several methods for creating arrays of repeated values:"
   ],
   "metadata": {
    "collapsed": false
   }
  },
  {
   "cell_type": "code",
   "execution_count": 4,
   "outputs": [
    {
     "data": {
      "text/plain": "array([[1., 1., 1., 1.],\n       [1., 1., 1., 1.],\n       [1., 1., 1., 1.]])"
     },
     "metadata": {},
     "output_type": "display_data"
    },
    {
     "data": {
      "text/plain": "array([[0., 0.]])"
     },
     "metadata": {},
     "output_type": "display_data"
    },
    {
     "data": {
      "text/plain": "array([[ True,  True,  True],\n       [ True,  True,  True]])"
     },
     "metadata": {},
     "output_type": "display_data"
    }
   ],
   "source": [
    "ones = np.ones((3, 4))\n",
    "zeros = np.zeros([1,2])\n",
    "trues = np.full((2,3),True)\n",
    "display(ones,zeros,trues)"
   ],
   "metadata": {
    "collapsed": false
   }
  },
  {
   "cell_type": "markdown",
   "source": [
    "# 1.1 Array shape and indexing."
   ],
   "metadata": {
    "collapsed": false
   }
  },
  {
   "cell_type": "markdown",
   "source": [
    "An arrays deminsions can be determined using `.shape`:"
   ],
   "metadata": {
    "collapsed": false
   }
  },
  {
   "cell_type": "code",
   "execution_count": 5,
   "outputs": [
    {
     "data": {
      "text/plain": "(4,)"
     },
     "metadata": {},
     "output_type": "display_data"
    },
    {
     "data": {
      "text/plain": "(2, 2)"
     },
     "metadata": {},
     "output_type": "display_data"
    },
    {
     "data": {
      "text/plain": "(2, 2, 3)"
     },
     "metadata": {},
     "output_type": "display_data"
    }
   ],
   "source": [
    "display(array_1d.shape,array_2d.shape,array_3d.shape)"
   ],
   "metadata": {
    "collapsed": false
   }
  },
  {
   "cell_type": "markdown",
   "source": [
    "When indexing deminsions are indexed in the same order they are created. This means rows first then columns:"
   ],
   "metadata": {
    "collapsed": false
   }
  },
  {
   "cell_type": "code",
   "execution_count": 6,
   "outputs": [
    {
     "data": {
      "text/plain": "3.14"
     },
     "metadata": {},
     "output_type": "display_data"
    },
    {
     "data": {
      "text/plain": "11.0"
     },
     "metadata": {},
     "output_type": "display_data"
    },
    {
     "data": {
      "text/plain": "10.0"
     },
     "metadata": {},
     "output_type": "display_data"
    }
   ],
   "source": [
    "display(array_1d[3], array_2d[1,0], array_3d[1, 1,0])"
   ],
   "metadata": {
    "collapsed": false
   }
  },
  {
   "cell_type": "markdown",
   "source": [
    "As well as slices `:` multiple single elements can be indexed:"
   ],
   "metadata": {
    "collapsed": false
   }
  },
  {
   "cell_type": "code",
   "execution_count": 7,
   "outputs": [
    {
     "data": {
      "text/plain": "array([ 3., -1., 11.])"
     },
     "metadata": {},
     "output_type": "display_data"
    },
    {
     "data": {
      "text/plain": "array([11., -1.])"
     },
     "metadata": {},
     "output_type": "display_data"
    }
   ],
   "source": [
    "display(array_1d[:3], array_2d[[1,0],[0,1]])"
   ],
   "metadata": {
    "collapsed": false
   }
  },
  {
   "cell_type": "markdown",
   "source": [
    "## 1.3 Element wise operations.\n",
    "\n",
    "Elementwise operations are accessed via the same methods as carried out on floats and ints:"
   ],
   "metadata": {
    "collapsed": false
   }
  },
  {
   "cell_type": "code",
   "execution_count": 8,
   "outputs": [
    {
     "data": {
      "text/plain": "array([[11.  , -6.  ],\n       [21.  ,  9.14]])"
     },
     "metadata": {},
     "output_type": "display_data"
    },
    {
     "data": {
      "text/plain": "array([[ 3.  , -1.  ],\n       [11.  ,  3.14]])"
     },
     "metadata": {},
     "output_type": "display_data"
    },
    {
     "data": {
      "text/plain": "array([[ 24.  ,   5.  ],\n       [110.  ,  18.84]])"
     },
     "metadata": {},
     "output_type": "display_data"
    },
    {
     "data": {
      "text/plain": "array([[ 3.  , -1.  ],\n       [11.  ,  3.14]])"
     },
     "metadata": {},
     "output_type": "display_data"
    }
   ],
   "source": [
    "array_2d_b = np.array([[ 8, -5 ],\n",
    "                       [10, 6]])\n",
    "addition_array = array_2d + array_2d_b\n",
    "sub_array = addition_array - array_2d_b\n",
    "mul_array = array_2d * array_2d_b\n",
    "div_array = mul_array/ array_2d_b\n",
    "display(addition_array, sub_array, mul_array, div_array)"
   ],
   "metadata": {
    "collapsed": false
   }
  },
  {
   "cell_type": "markdown",
   "source": [
    "## 1.4 Further tutorials and reading on numpy.\n",
    "\n",
    "Now that these basics are covered you may wish to look up Numpy's:\n",
    "1. [user guide](https://numpy.org/doc/stable/user/index.html#user)\n",
    "2. [Linear algebra features](https://numpy.org/doc/stable/reference/routines.linalg.html)\n",
    "3. [Random number generators](https://numpy.org/doc/stable/reference/random/generator.html)"
   ],
   "metadata": {
    "collapsed": false
   }
  },
  {
   "cell_type": "markdown",
   "source": [
    "# 2 Matplotlib\n",
    "\n",
    "Matplotlib is a low level library for creating publishable visulisations in python.\n",
    "\n",
    "The examples below are largley drawn from [Matplotlib's quick start quide](https://matplotlib.org/stable/users/explain/quick_start.html#quick-start)\n",
    "\n",
    "Lets import some key plotting objects from matplotlib"
   ],
   "metadata": {
    "collapsed": false
   }
  },
  {
   "cell_type": "code",
   "execution_count": 9,
   "outputs": [],
   "source": [
    "import matplotlib.pyplot as plt\n",
    "import matplotlib as mpl"
   ],
   "metadata": {
    "collapsed": false
   }
  },
  {
   "cell_type": "markdown",
   "source": [
    "## 2.1 A simple graph"
   ],
   "metadata": {
    "collapsed": false
   }
  },
  {
   "cell_type": "code",
   "execution_count": 10,
   "outputs": [
    {
     "data": {
      "text/plain": "[<matplotlib.lines.Line2D at 0x185fe99b190>]"
     },
     "execution_count": 10,
     "metadata": {},
     "output_type": "execute_result"
    },
    {
     "data": {
      "text/plain": "<Figure size 640x480 with 1 Axes>",
      "image/png": "[encoded data removed]"
     },
     "metadata": {},
     "output_type": "display_data"
    }
   ],
   "source": [
    "fig, ax = plt.subplots()  # Create a figure containing a single axes.\n",
    "ax.plot([1, 2, 3, 4], np.arange(4,0,-1))  # Plot some data on the axes."
   ],
   "metadata": {
    "collapsed": false
   }
  },
  {
   "cell_type": "markdown",
   "source": [
    "## 2.2 Anatomy of a figure\n",
    "\n",
    "Lets use some code to give an example:"
   ],
   "metadata": {
    "collapsed": false
   }
  },
  {
   "cell_type": "code",
   "execution_count": 12,
   "outputs": [
    {
     "data": {
      "text/plain": "<Figure size 640x480 with 6 Axes>",
      "image/png": "[encoded data removed]"
     },
     "metadata": {},
     "output_type": "display_data"
    }
   ],
   "source": [
    "fig, axs = plt.subplots(2, 3)  # a figure with a 2x3 grid of Axes"
   ],
   "metadata": {
    "collapsed": false
   }
  },
  {
   "cell_type": "markdown",
   "source": [
    "The parts of a figure:\n",
    "1. Figure: The whole figure refered above as `fig`. The Figure keeps track of all the child Axes.\n",
    "2. Axes: Subplots refered above as axs. Single axes can be indexed via `axs[row,column]`. Remember python indexing starts at 0. So to acces the subplot in the first rows 2nd column you would use `axs[0,1]`.\n",
    "3. Axis: The axis of an Axes (subplot). This how you access: axis labels, scale, limits, ticks (the marks on the Axis) and ticklabels (strings labeling the ticks)."
   ],
   "metadata": {
    "collapsed": false
   }
  },
  {
   "cell_type": "markdown",
   "source": [
    "# 2.3 Customising a plot.\n",
    "\n",
    "Below we will plot several simple functions of x and customise the plot."
   ],
   "metadata": {
    "collapsed": false
   }
  },
  {
   "cell_type": "code",
   "execution_count": 26,
   "outputs": [
    {
     "data": {
      "text/plain": "<matplotlib.legend.Legend at 0x18583debcd0>"
     },
     "execution_count": 26,
     "metadata": {},
     "output_type": "execute_result"
    },
    {
     "data": {
      "text/plain": "<Figure size 500x270 with 1 Axes>",
      "image/png": "[encoded data removed]"
     },
     "metadata": {},
     "output_type": "display_data"
    }
   ],
   "source": [
    "x = np.linspace(0, 2, 100)  # Sample data.\n",
    "fig, ax = plt.subplots(figsize=(5, 2.7), layout='constrained')\n",
    "ax.plot(x, x, label='linear', color='green')  # Plot some data on the axes. # Change color to green.\n",
    "ax.plot(x, x**2, label='quadratic', linestyle='dashed')  # Plot more data on the axes using a dashed line.\n",
    "ax.plot(x, x**3, label='cubic', linewidth=2)  # Plot more data on the axes using a thicker line.\n",
    "ax.plot(x, x**(1/2), label='square root', color='red', linestyle='dotted', linewidth=2)  # Plot more data on the axes using a thick dotted red line.\n",
    "ax.set_xlabel('X')  # Add an x-label to the axes.\n",
    "ax.set_ylabel('f(x)')  # Add a y-label to the axes.\n",
    "ax.set_title(\"Simple functions of X\")  # Add a title to the axes.\n",
    "ax.legend()  # Add a legend."
   ],
   "metadata": {
    "collapsed": false
   }
  },
  {
   "cell_type": "markdown",
   "source": [
    "# 2.4 Sugested further reading:\n",
    "\n",
    "Matplotlib is versitile library for producing many styles of plots. I would recommend looking up the following:\n",
    "* A more in depth set of tutorials: [https://matplotlib.org/stable/tutorials/index.html](https://matplotlib.org/stable/tutorials/index.html).\n",
    "* A gallary demonstrating how to make specific plots [https://matplotlib.org/stable/plot_types/index.html](https://matplotlib.org/stable/plot_types/index.html)."
   ],
   "metadata": {
    "collapsed": false
   }
  },
  {
   "cell_type": "markdown",
   "source": [
    "# 3. PyGOM\n",
    "\n",
    "PyGOM — A Python Package for Simplifying Modelling with Systems of Ordinary Differential Equations [https://arxiv.org/pdf/1803.06934.pdf](https://arxiv.org/pdf/1803.06934.pdf)\n",
    "\n",
    "\n",
    "\n",
    "# 3.1 Setting up an ODE system\n",
    "\n",
    "Using PyGOM, we will set up a simple SIR model. This model has many simplifying assumptions, including:\n",
    "- no births or deaths\n",
    "- homogeneous mixing\n",
    "- no interventions\n",
    "\n",
    "Suscebtible population (S) are those that can catch the disease. A susceptible person becomes infected when they interact with an infected person. The chance of this interaction resulting in infection is described with parameter $\\beta$.\n",
    "\n",
    "$ \\frac{dS}{dt} = -\\beta S I$\n",
    "\n",
    "Infected population (I) recover at rate $\\gamma$.\n",
    "\n",
    "$ \\frac{dI}{dt} = \\beta S I - \\gamma I$\n",
    "\n",
    "Removed population (R) are those who have immunity (described with initial conditions) or have recovered/died from the disease.\n",
    "\n",
    "$ \\frac{dR}{dt} = \\gamma I$\n",
    "\n",
    "Total population (N) is given by $N = S + I + R$."
   ],
   "metadata": {
    "collapsed": false
   }
  },
  {
   "cell_type": "code",
   "execution_count": 70,
   "outputs": [],
   "source": [
    "from pygom import Transition, TransitionType, SimulateOde # import necesary objects from pygom\n",
    "import pygom\n",
    "\n",
    "states = ['S', 'I', 'R']  # Set the states\n",
    "params = ['beta', 'gamma'] # Set the parameters.\n",
    "\n",
    "# Setting up models by transitions:\n",
    "transitions = [Transition(origin='S', destination='I', equation='beta*S*I',\n",
    "                          transition_type=TransitionType.T),\n",
    "               Transition(origin='I', destination='R', equation='gamma*I',\n",
    "                          transition_type=TransitionType.T)]\n",
    "model = SimulateOde(states, params, transition=transitions)"
   ],
   "metadata": {
    "collapsed": false
   }
  },
  {
   "cell_type": "markdown",
   "source": [
    "**Note** if you wanted to a births or deaths you would have to create a seperate list of birth and death transitions, see [https://pygom.readthedocs.io/en/master/transition.html](https://pygom.readthedocs.io/en/master/transition.html). This list of birth and death transitions can be added at initialising `SimulateOde`, through the argument `birth_death`.\n",
    "\n",
    "\n",
    "You can set up models using euqations (see below). However, stochstic (Continuous Markov) based simulations will not be available."
   ],
   "metadata": {
    "collapsed": false
   }
  },
  {
   "cell_type": "code",
   "execution_count": 71,
   "outputs": [],
   "source": [
    "# Setting up models by equations:\n",
    "equations = [Transition(origin='S', equation='-beta*S*I', transition_type=TransitionType.ODE),\n",
    "             Transition(origin='I', equation='beta*S*I - gamma*I', transition_type=TransitionType.ODE),\n",
    "             Transition(origin='R', equation='gamma*I', transition_type=TransitionType.ODE)]\n",
    "model_by_equations = SimulateOde(states, params, ode=equations)"
   ],
   "metadata": {
    "collapsed": false
   }
  },
  {
   "cell_type": "markdown",
   "source": [
    "You can get several representation of the models ODEs:"
   ],
   "metadata": {
    "collapsed": false
   }
  },
  {
   "cell_type": "code",
   "execution_count": 72,
   "outputs": [
    {
     "data": {
      "text/plain": "Matrix([\n[         -I*S*beta],\n[I*S*beta - I*gamma],\n[           I*gamma]])",
      "text/latex": "$\\displaystyle \\left[\\begin{matrix}- I S \\beta\\\\I S \\beta - I \\gamma\\\\I \\gamma\\end{matrix}\\right]$"
     },
     "execution_count": 72,
     "metadata": {},
     "output_type": "execute_result"
    }
   ],
   "source": [
    "model.get_ode_eqn() # Equations for a state variable are printed in the order the variable was entered in the `states` list."
   ],
   "metadata": {
    "collapsed": false
   }
  },
  {
   "cell_type": "code",
   "execution_count": 73,
   "outputs": [
    {
     "name": "stdout",
     "output_type": "stream",
     "text": [
      "⎡dS/dt=    -I⋅S⋅β   ⎤\n",
      "⎢                   ⎥\n",
      "⎢dI/dt=  I⋅S⋅β - I⋅γ⎥\n",
      "⎢                   ⎥\n",
      "⎣dR/dt=      I⋅γ    ⎦\n"
     ]
    }
   ],
   "source": [
    "model.print_ode()"
   ],
   "metadata": {
    "collapsed": false
   }
  },
  {
   "cell_type": "code",
   "execution_count": 74,
   "outputs": [
    {
     "name": "stdout",
     "output_type": "stream",
     "text": [
      "\\begin{array}{cc}dS/dt= & - I S \\beta\\\\dI/dt= & I S \\beta - I \\gamma\\\\dR/dt= & I \\gamma\\end{array}\n"
     ]
    }
   ],
   "source": [
    "model.print_ode(latex_output=True) # a latex representation."
   ],
   "metadata": {
    "collapsed": false
   }
  },
  {
   "cell_type": "markdown",
   "source": [
    "## 3.2 Deriving R<sub>0</sub>\n",
    "\n",
    "You can use Pygom's `R0` function to find `R0` this uses Next Generation Matrix methods as outlined in:\n",
    "\n",
    "Diekmann, O., Heesterbeek, J. A. P., & Roberts, M. G. (2010). The construction of next-generation matrices for compartmental epidemic models. Journal of the Royal Society Interface, 7(47), 873–885. [https://doi.org/10.1098/rsif.2009.0386](https://doi.org/10.1098/rsif.2009.0386)"
   ],
   "metadata": {
    "collapsed": false
   }
  },
  {
   "cell_type": "code",
   "execution_count": 75,
   "outputs": [],
   "source": [
    "import pygom"
   ],
   "metadata": {
    "collapsed": false
   }
  },
  {
   "cell_type": "code",
   "execution_count": 76,
   "outputs": [
    {
     "data": {
      "text/plain": "[S*beta/gamma]"
     },
     "execution_count": 76,
     "metadata": {},
     "output_type": "execute_result"
    }
   ],
   "source": [
    "disease_state='I'\n",
    "F, V = pygom.disease_progression_matrices(model, disease_state=disease_state) # F is secondary infection rates, V is disease progression rates\n",
    "eigs = pygom.R0_from_matrix(F,V)\n",
    "eigs"
   ],
   "metadata": {
    "collapsed": false
   }
  },
  {
   "cell_type": "code",
   "execution_count": 79,
   "outputs": [
    {
     "data": {
      "text/plain": "S*beta/gamma",
      "text/latex": "$\\displaystyle \\frac{S \\beta}{\\gamma}$"
     },
     "execution_count": 79,
     "metadata": {},
     "output_type": "execute_result"
    }
   ],
   "source": [
    "R_0_ = eigs[0]\n",
    "R_0_"
   ],
   "metadata": {
    "collapsed": false
   }
  },
  {
   "cell_type": "markdown",
   "source": [
    "Remember that S at time 0 is approximate to our total population (N). Therefore, R<sub>0</sub>$\\approx$ $N\\beta/\\gamma$.\n",
    "\n",
    "**Note** pygom does have the function `R0` but his sometimes gives the incorrect value of 0. I recommend using the above method in that instance."
   ],
   "metadata": {
    "collapsed": false
   }
  },
  {
   "cell_type": "code",
   "execution_count": null,
   "outputs": [],
   "source": [],
   "metadata": {
    "collapsed": false
   }
  }
 ],
 "metadata": {
  "kernelspec": {
   "display_name": "Python 3 (ipykernel)",
   "language": "python",
   "name": "python3"
  },
  "language_info": {
   "codemirror_mode": {
    "name": "ipython",
    "version": 3
   },
   "file_extension": ".py",
   "mimetype": "text/x-python",
   "name": "python",
   "nbconvert_exporter": "python",
   "pygments_lexer": "ipython3",
   "version": "3.11.7"
  }
 },
 "nbformat": 4,
 "nbformat_minor": 4
}
