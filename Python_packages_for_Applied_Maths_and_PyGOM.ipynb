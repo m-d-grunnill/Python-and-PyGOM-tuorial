{
 "cells": [
  {
   "cell_type": "markdown",
   "metadata": {
    "collapsed": false,
    "jupyter": {
     "outputs_hidden": false
    }
   },
   "source": [
    "# Python Packages For Applied Mathematics and PyGOM Tutorial\n",
    "\n",
    "By Martin Grunnill\n",
    "Given on 16<sup>th</sup> January as part of York University's Practicum in Industrial and Applied Math.\n",
    "\n",
    "Python is one of the most commonly used coding languages, hosting an extensive array of packages in Data Science, Mathematics and Machine Learning. With a syntax that emphasis readability, Python is considered one of the easiest coding languages to learn. It is also free and open source. Therefore, Python code produced in a research project can be more easily shared with others and is more accessible outside of academic institutions.\n",
    "\n",
    "This Jupyter notebook is divided into three sections:\n",
    "1. Numpy: provides support for handling multidimensional arrays and matrices.\n",
    "2. Pandas: provides access to Dataframe and Serries objects. Dataframes being similar to spreadsheets, with Series being a one-dimensional variant.\n",
    "3. PyGOM: a toolbox for modeling with Ordinary Differential Equations (ODEs). Having been developed by the UK Health Security Agency, PyGOM has an emphasis on epidemiological modelling. Providing functionality not only for solving ODEs, parameter estimation and stochastic simulation, but methods for deriving the basic reproduction number R0."
   ]
  },
  {
   "cell_type": "markdown",
   "metadata": {
    "collapsed": false,
    "jupyter": {
     "outputs_hidden": false
    }
   },
   "source": [
    "# 1. Numpy\n",
    "\n",
    "At the core of numpy is the ndarray object. Although having similarities to lists (and tupples) in terms of indexing, Ndarrays have some key differences:\n",
    "* They are of a fixed sized from creation (similar to a tupple). Changing the deminsions of a ndarray results in the creation of a new ndarray.\n",
    "* They facilitate mathmatical operations at a much faster speed and with less code.\n",
    "\n",
    "This final point has led to numpy array's being the basis of many python packages in mathematical and scientific computing. As such python based work in this area requires often requires knowledge of numpy arrays.\n",
    "\n",
    "# 1.1 Creating Arrays.\n",
    "\n",
    "Lets import numpy and create some ndarrays."
   ]
  },
  {
   "cell_type": "code",
   "execution_count": 1,
   "outputs": [],
   "source": [
    "import numpy as np # numpy is often shotened to np in coding:\n",
    "\n",
    "array_1d = np.array([2,-1,6, 11, 3.14])"
   ],
   "metadata": {
    "collapsed": false
   }
  },
  {
   "cell_type": "code",
   "execution_count": 2,
   "outputs": [
    {
     "data": {
      "text/plain": "array([ 3.  , -1.  , 11.  ,  3.14])"
     },
     "metadata": {},
     "output_type": "display_data"
    },
    {
     "data": {
      "text/plain": "array([[ 3.  , -1.  ],\n       [11.  ,  3.14]])"
     },
     "metadata": {},
     "output_type": "display_data"
    },
    {
     "data": {
      "text/plain": "array([[[ 3.  , -1.  ,  2.  ],\n        [ 2.  ,  3.14,  3.  ]],\n\n       [[11.  ,  3.14,  8.  ],\n        [10.  , 11.  , 12.  ]]])"
     },
     "metadata": {},
     "output_type": "display_data"
    }
   ],
   "source": [
    "array_1d = np.array([3,-1, 11, 3.14])\n",
    "array_2d = np.array([[ 3, -1 ],\n",
    "                     [11, 3.14]])\n",
    "array_3d = np.array([[[ 3, -1 ,2], [2,3.14,3]], [[11, 3.14, 8], [10,11,12]]])\n",
    "\n",
    "display(array_1d,array_2d,array_3d)"
   ],
   "metadata": {
    "collapsed": false
   }
  },
  {
   "cell_type": "markdown",
   "source": [
    "Arrays of sequences can be generated using `arange` in similar manner to `range`. **Note** this has an advantage over `range` in that it can handle floats."
   ],
   "metadata": {
    "collapsed": false
   }
  },
  {
   "cell_type": "code",
   "execution_count": 3,
   "outputs": [
    {
     "data": {
      "text/plain": "array([2, 3, 4])"
     },
     "metadata": {},
     "output_type": "display_data"
    },
    {
     "data": {
      "text/plain": "array([2.  , 2.25, 2.5 , 2.75])"
     },
     "metadata": {},
     "output_type": "display_data"
    }
   ],
   "source": [
    "display(np.arange(2,5), np.arange(2,3,0.25))"
   ],
   "metadata": {
    "collapsed": false
   }
  },
  {
   "cell_type": "markdown",
   "source": [
    "There are several methods for creating arrays of repeated values:"
   ],
   "metadata": {
    "collapsed": false
   }
  },
  {
   "cell_type": "code",
   "execution_count": 4,
   "outputs": [
    {
     "data": {
      "text/plain": "array([[1., 1., 1., 1.],\n       [1., 1., 1., 1.],\n       [1., 1., 1., 1.]])"
     },
     "metadata": {},
     "output_type": "display_data"
    },
    {
     "data": {
      "text/plain": "array([[0., 0.]])"
     },
     "metadata": {},
     "output_type": "display_data"
    },
    {
     "data": {
      "text/plain": "array([[ True,  True,  True],\n       [ True,  True,  True]])"
     },
     "metadata": {},
     "output_type": "display_data"
    }
   ],
   "source": [
    "ones = np.ones((3, 4))\n",
    "zeros = np.zeros([1,2])\n",
    "trues = np.full((2,3),True)\n",
    "display(ones,zeros,trues)"
   ],
   "metadata": {
    "collapsed": false
   }
  },
  {
   "cell_type": "markdown",
   "source": [
    "# 1.1 Array shape and indexing."
   ],
   "metadata": {
    "collapsed": false
   }
  },
  {
   "cell_type": "markdown",
   "source": [
    "An arrays deminsions can be determined using `.shape`:"
   ],
   "metadata": {
    "collapsed": false
   }
  },
  {
   "cell_type": "code",
   "execution_count": 5,
   "outputs": [
    {
     "data": {
      "text/plain": "(4,)"
     },
     "metadata": {},
     "output_type": "display_data"
    },
    {
     "data": {
      "text/plain": "(2, 2)"
     },
     "metadata": {},
     "output_type": "display_data"
    },
    {
     "data": {
      "text/plain": "(2, 2, 3)"
     },
     "metadata": {},
     "output_type": "display_data"
    }
   ],
   "source": [
    "display(array_1d.shape,array_2d.shape,array_3d.shape)"
   ],
   "metadata": {
    "collapsed": false
   }
  },
  {
   "cell_type": "markdown",
   "source": [
    "When indexing deminsions are indexed in the same order they are created. This means rows first then columns:"
   ],
   "metadata": {
    "collapsed": false
   }
  },
  {
   "cell_type": "code",
   "execution_count": 6,
   "outputs": [
    {
     "data": {
      "text/plain": "3.14"
     },
     "metadata": {},
     "output_type": "display_data"
    },
    {
     "data": {
      "text/plain": "11.0"
     },
     "metadata": {},
     "output_type": "display_data"
    },
    {
     "data": {
      "text/plain": "10.0"
     },
     "metadata": {},
     "output_type": "display_data"
    }
   ],
   "source": [
    "display(array_1d[3], array_2d[1,0], array_3d[1, 1,0])"
   ],
   "metadata": {
    "collapsed": false
   }
  },
  {
   "cell_type": "markdown",
   "source": [
    "As well as slices `:` multiple single elements can be indexed:"
   ],
   "metadata": {
    "collapsed": false
   }
  },
  {
   "cell_type": "code",
   "execution_count": 7,
   "outputs": [
    {
     "data": {
      "text/plain": "array([ 3., -1., 11.])"
     },
     "metadata": {},
     "output_type": "display_data"
    },
    {
     "data": {
      "text/plain": "array([11., -1.])"
     },
     "metadata": {},
     "output_type": "display_data"
    }
   ],
   "source": [
    "display(array_1d[:3], array_2d[[1,0],[0,1]])"
   ],
   "metadata": {
    "collapsed": false
   }
  },
  {
   "cell_type": "markdown",
   "source": [
    "## 1.3 Element wise operations.\n",
    "\n",
    "Elementwise operations are accessed via the same methods as carried out on floats and ints:"
   ],
   "metadata": {
    "collapsed": false
   }
  },
  {
   "cell_type": "code",
   "execution_count": 8,
   "outputs": [
    {
     "data": {
      "text/plain": "array([[11.  , -6.  ],\n       [21.  ,  9.14]])"
     },
     "metadata": {},
     "output_type": "display_data"
    },
    {
     "data": {
      "text/plain": "array([[ 3.  , -1.  ],\n       [11.  ,  3.14]])"
     },
     "metadata": {},
     "output_type": "display_data"
    },
    {
     "data": {
      "text/plain": "array([[ 24.  ,   5.  ],\n       [110.  ,  18.84]])"
     },
     "metadata": {},
     "output_type": "display_data"
    },
    {
     "data": {
      "text/plain": "array([[ 3.  , -1.  ],\n       [11.  ,  3.14]])"
     },
     "metadata": {},
     "output_type": "display_data"
    }
   ],
   "source": [
    "array_2d_b = np.array([[ 8, -5 ],\n",
    "                       [10, 6]])\n",
    "addition_array = array_2d + array_2d_b\n",
    "sub_array = addition_array - array_2d_b\n",
    "mul_array = array_2d * array_2d_b\n",
    "div_array = mul_array/ array_2d_b\n",
    "display(addition_array, sub_array, mul_array, div_array)"
   ],
   "metadata": {
    "collapsed": false
   }
  },
  {
   "cell_type": "markdown",
   "source": [
    "## 1.4 Further tutorials and reading on numpy.\n",
    "\n",
    "Now that these basics are covered you may wish to look up Numpy's:\n",
    "1. [user guide](https://numpy.org/doc/stable/user/index.html#user)\n",
    "2. [Linear algebra features](https://numpy.org/doc/stable/reference/routines.linalg.html)\n",
    "3. [Random number generators](https://numpy.org/doc/stable/reference/random/generator.html)"
   ],
   "metadata": {
    "collapsed": false
   }
  },
  {
   "cell_type": "markdown",
   "source": [
    "# 2. PyGOM\n",
    "\n",
    "PyGOM — A Python Package for Simplifying Modelling with Systems of Ordinary Differential Equations https://arxiv.org/pdf/1803.06934.pdf\n",
    "\n",
    "\n",
    "\n",
    "# 2.1 Setting up an ODE system\n",
    "\n",
    "Using PyGOM, we will set up a simple SIR model. This model has many simplifying assumptions, including:\n",
    "- no births or deaths\n",
    "- homogeneous mixing\n",
    "- no interventions\n",
    "\n",
    "Suscebtible population (S) are those that can catch the disease. A susceptible person becomes infected when they interact with an infected person. The chance of this interaction resulting in infection is described with parameter $\\beta$.\n",
    "\n",
    "$ \\frac{dS}{dt} = -\\beta S \\frac{I}{N}$\n",
    "\n",
    "Infected population (I) recover at rate $\\gamma$.\n",
    "\n",
    "$ \\frac{dI}{dt} = \\beta S \\frac{I}{N} - \\gamma I$\n",
    "\n",
    "Removed population (R) are those who have immunity (described with initial conditions) or have recovered/died from the disease.\n",
    "\n",
    "$ \\frac{dR}{dt} = \\gamma I$\n",
    "\n",
    "Total population (N) is given by $N = S + I + R$."
   ],
   "metadata": {
    "collapsed": false
   }
  },
  {
   "cell_type": "code",
   "execution_count": 9,
   "outputs": [],
   "source": [
    "from pygom import Transition, TransitionType, SimulateOde # import necesary objects from pygom\n",
    "\n",
    "states = ['S', 'I', 'R']  # Set the states\n",
    "params = ['beta', 'gamma', 'N'] # Set the parameters.\n",
    "transitions = [Transition(origin='S', destination='I', equation='beta*S*I/N',\n",
    "                          transition_type=TransitionType.T),\n",
    "               Transition(origin='I', destination='R', equation='gamma*I',\n",
    "                          transition_type=TransitionType.T)]\n",
    "model = SimulateOde(states, params, transition=transitions)"
   ],
   "metadata": {
    "collapsed": false
   }
  },
  {
   "cell_type": "code",
   "execution_count": 9,
   "outputs": [],
   "source": [],
   "metadata": {
    "collapsed": false
   }
  }
 ],
 "metadata": {
  "kernelspec": {
   "display_name": "Python 3 (ipykernel)",
   "language": "python",
   "name": "python3"
  },
  "language_info": {
   "codemirror_mode": {
    "name": "ipython",
    "version": 3
   },
   "file_extension": ".py",
   "mimetype": "text/x-python",
   "name": "python",
   "nbconvert_exporter": "python",
   "pygments_lexer": "ipython3",
   "version": "3.11.7"
  }
 },
 "nbformat": 4,
 "nbformat_minor": 4
}
