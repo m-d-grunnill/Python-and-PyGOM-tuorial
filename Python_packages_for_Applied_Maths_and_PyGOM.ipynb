{
 "cells": [
  {
   "cell_type": "markdown",
   "metadata": {
    "collapsed": false,
    "jupyter": {
     "outputs_hidden": false
    }
   },
   "source": [
    "# Python Packages For Applied Mathematics and PyGOM Tutorial\n",
    "\n",
    "By Martin Grunnill\n",
    "Given on 16<sup>th</sup> January as part of York University's Practicum in Industrial and Applied Math.\n",
    "\n",
    "Python is one of the most commonly used coding languages, hosting an extensive array of packages in Data Science, Mathematics and Machine Learning. With a syntax that emphasis readability, Python is considered one of the easiest coding languages to learn. It is also free and open source. Therefore, Python code produced in a research project can be more easily shared with others and is more accessible outside of academic institutions.\n",
    "\n",
    "This Jupyter notebook is divided into three mandatory and three optional sections:\n",
    "1. Numpy: provides support for handling multidimensional arrays and matrices.\n",
    "2. Matplotlib: graphical support.\n",
    "3. PyGOM: a toolbox for modeling with Ordinary Differential Equations (ODEs). Having been developed by the UK Health Security Agency, PyGOM has an emphasis on epidemiological modelling. Providing functionality not only for solving ODEs, parameter estimation and stochastic simulation, but methods for deriving the basic reproduction number R0.\n",
    "* Optional:\n",
    "    4. Pandas: provides access to Dataframe and Serries objects. Dataframes being similar to spreadsheets, with Series being a one-dimensional variant.\n",
    "    5. Seaborn: highlevel graphical package built on top of matplotlib. Great for producing subplot comparisons or plots comparing tends under different conditions.\n",
    "    6. Sympy: **sym**bolic algebra in **py**thon. I have provided an extra notebook (from a previous seminar), titled \"R0 in Sympy and PyGOM.inpnyb\". This extra notebook provides an example of Sympy being used to dervie $R_0$.\n"
   ]
  },
  {
   "cell_type": "markdown",
   "metadata": {
    "collapsed": false,
    "jupyter": {
     "outputs_hidden": false
    }
   },
   "source": [
    "# 1. Numpy\n",
    "\n",
    "At the core of numpy is the ndarray object. Although having similarities to lists (and tupples) in terms of indexing, Ndarrays have some key differences:\n",
    "* They are of a fixed sized from creation (similar to a tupple). Changing the deminsions of a ndarray results in the creation of a new ndarray.\n",
    "* They facilitate mathmatical operations at a much faster speed and with less code.\n",
    "\n",
    "This final point has led to numpy array's being the basis of many python packages in mathematical and scientific computing. As such python based work in this area requires often requires knowledge of numpy arrays.\n",
    "\n",
    "# 1.1 Creating Arrays.\n",
    "\n",
    "Lets import numpy and create some ndarrays."
   ]
  },
  {
   "cell_type": "code",
   "execution_count": null,
   "metadata": {
    "collapsed": false,
    "jupyter": {
     "outputs_hidden": false
    }
   },
   "outputs": [],
   "source": [
    "import numpy as np # numpy is often shotened to np in coding:\n"
   ]
  },
  {
   "cell_type": "code",
   "execution_count": null,
   "metadata": {
    "collapsed": false,
    "jupyter": {
     "outputs_hidden": false
    }
   },
   "outputs": [],
   "source": [
    "array_1d = np.array([3,-1, 11, 3.14])\n",
    "array_2d = np.array([[ 3, -1 ],\n",
    "                     [11, 3.14]])\n",
    "array_3d = np.array([[[ 3, -1 ,2], [2,3.14,3]], [[11, 3.14, 8], [10,11,12]]])\n",
    "\n",
    "display(array_1d,array_2d,array_3d)"
   ]
  },
  {
   "cell_type": "markdown",
   "metadata": {
    "collapsed": false,
    "jupyter": {
     "outputs_hidden": false
    }
   },
   "source": [
    "Arrays of sequences can be generated using `arange` in similar manner to `range`. **Note** this has an advantage over `range` in that it can handle floats."
   ]
  },
  {
   "cell_type": "code",
   "execution_count": null,
   "metadata": {
    "collapsed": false,
    "jupyter": {
     "outputs_hidden": false
    }
   },
   "outputs": [],
   "source": [
    "display(np.arange(2,5), np.arange(2,3,0.25))"
   ]
  },
  {
   "cell_type": "markdown",
   "metadata": {
    "collapsed": false,
    "jupyter": {
     "outputs_hidden": false
    }
   },
   "source": [
    "There are several methods for creating arrays of repeated values:"
   ]
  },
  {
   "cell_type": "code",
   "execution_count": null,
   "metadata": {
    "collapsed": false,
    "jupyter": {
     "outputs_hidden": false
    }
   },
   "outputs": [],
   "source": [
    "ones = np.ones((3, 4))\n",
    "zeros = np.zeros([1,2])\n",
    "trues = np.full((2,3),True)\n",
    "display(ones,zeros,trues)"
   ]
  },
  {
   "cell_type": "markdown",
   "metadata": {
    "collapsed": false,
    "jupyter": {
     "outputs_hidden": false
    }
   },
   "source": [
    "# 1.1 Array shape and indexing."
   ]
  },
  {
   "cell_type": "markdown",
   "metadata": {
    "collapsed": false,
    "jupyter": {
     "outputs_hidden": false
    }
   },
   "source": [
    "An arrays deminsions can be determined using `.shape`:"
   ]
  },
  {
   "cell_type": "code",
   "execution_count": null,
   "metadata": {
    "collapsed": false,
    "jupyter": {
     "outputs_hidden": false
    }
   },
   "outputs": [],
   "source": [
    "display(array_1d.shape,array_2d.shape,array_3d.shape)"
   ]
  },
  {
   "cell_type": "markdown",
   "metadata": {
    "collapsed": false,
    "jupyter": {
     "outputs_hidden": false
    }
   },
   "source": [
    "When indexing deminsions are indexed in the same order they are created. This means rows first then columns:"
   ]
  },
  {
   "cell_type": "code",
   "execution_count": null,
   "metadata": {
    "collapsed": false,
    "jupyter": {
     "outputs_hidden": false
    }
   },
   "outputs": [],
   "source": [
    "display(array_1d[3], array_2d[1,0], array_3d[1, 1,0])"
   ]
  },
  {
   "cell_type": "markdown",
   "metadata": {
    "collapsed": false,
    "jupyter": {
     "outputs_hidden": false
    }
   },
   "source": [
    "As well as slices `:` multiple single elements can be indexed:"
   ]
  },
  {
   "cell_type": "code",
   "execution_count": null,
   "metadata": {
    "collapsed": false,
    "jupyter": {
     "outputs_hidden": false
    }
   },
   "outputs": [],
   "source": [
    "display(array_1d[:3], array_2d[[1,0],[0,1]])"
   ]
  },
  {
   "cell_type": "markdown",
   "metadata": {
    "collapsed": false,
    "jupyter": {
     "outputs_hidden": false
    }
   },
   "source": [
    "## 1.3 Element wise operations.\n",
    "\n",
    "Elementwise operations are accessed via the same methods as carried out on floats and ints:"
   ]
  },
  {
   "cell_type": "code",
   "execution_count": null,
   "metadata": {
    "collapsed": false,
    "jupyter": {
     "outputs_hidden": false
    }
   },
   "outputs": [],
   "source": [
    "array_2d_b = np.array([[ 8, -5 ],\n",
    "                       [10, 6]])\n",
    "addition_array = array_2d + array_2d_b\n",
    "sub_array = addition_array - array_2d_b\n",
    "mul_array = array_2d * array_2d_b\n",
    "div_array = mul_array/ array_2d_b\n",
    "display(addition_array, sub_array, mul_array, div_array)"
   ]
  },
  {
   "cell_type": "markdown",
   "metadata": {
    "collapsed": false,
    "jupyter": {
     "outputs_hidden": false
    }
   },
   "source": [
    "## 1.4 Further tutorials and reading on numpy.\n",
    "\n",
    "Now that these basics are covered you may wish to look up Numpy's:\n",
    "1. [user guide](https://numpy.org/doc/stable/user)\n",
    "2. [Linear algebra features](https://numpy.org/doc/stable/reference/routines.linalg.html)\n",
    "3. [Random number generators](https://numpy.org/doc/stable/reference/random/generator.html)"
   ]
  },
  {
   "cell_type": "markdown",
   "metadata": {
    "collapsed": false,
    "jupyter": {
     "outputs_hidden": false
    }
   },
   "source": [
    "# 2 Matplotlib\n",
    "\n",
    "Matplotlib is a low level library for creating publishable visulisations in python.\n",
    "\n",
    "The examples below are largley drawn from [Matplotlib's quick start quide](https://matplotlib.org/stable/users/explain/quick_start.html#quick-start)\n",
    "\n",
    "Lets import some key plotting objects from matplotlib"
   ]
  },
  {
   "cell_type": "code",
   "execution_count": null,
   "metadata": {
    "collapsed": false,
    "jupyter": {
     "outputs_hidden": false
    }
   },
   "outputs": [],
   "source": [
    "import matplotlib.pyplot as plt\n",
    "import matplotlib as mpl"
   ]
  },
  {
   "cell_type": "markdown",
   "metadata": {
    "collapsed": false,
    "jupyter": {
     "outputs_hidden": false
    }
   },
   "source": [
    "## 2.1 A simple graph"
   ]
  },
  {
   "cell_type": "code",
   "execution_count": null,
   "metadata": {
    "collapsed": false,
    "jupyter": {
     "outputs_hidden": false
    }
   },
   "outputs": [],
   "source": [
    "fig, ax = plt.subplots()  # Create a figure containing a single axes.\n",
    "ax.plot([1, 2, 3, 4], np.arange(4,0,-1))  # Plot some data on the axes."
   ]
  },
  {
   "cell_type": "markdown",
   "metadata": {
    "collapsed": false,
    "jupyter": {
     "outputs_hidden": false
    }
   },
   "source": [
    "## 2.2 Anatomy of a figure\n",
    "\n",
    "Lets use some code to give an example:"
   ]
  },
  {
   "cell_type": "code",
   "execution_count": null,
   "metadata": {
    "collapsed": false,
    "jupyter": {
     "outputs_hidden": false
    }
   },
   "outputs": [],
   "source": [
    "fig, axs = plt.subplots(2, 3)  # a figure with a 2x3 grid of Axes"
   ]
  },
  {
   "cell_type": "markdown",
   "metadata": {
    "collapsed": false,
    "jupyter": {
     "outputs_hidden": false
    }
   },
   "source": [
    "The parts of a figure:\n",
    "1. Figure: The whole figure refered above as `fig`. The Figure keeps track of all the child Axes.\n",
    "2. Axes: Subplots refered above as axs. Single axes can be indexed via `axs[row,column]`. Remember python indexing starts at 0. So to acces the subplot in the first rows 2nd column you would use `axs[0,1]`.\n",
    "3. Axis: The axis of an Axes (subplot). This how you access: axis labels, scale, limits, ticks (the marks on the Axis) and ticklabels (strings labeling the ticks)."
   ]
  },
  {
   "cell_type": "markdown",
   "metadata": {
    "collapsed": false,
    "jupyter": {
     "outputs_hidden": false
    }
   },
   "source": [
    "# 2.3 Customising a plot.\n",
    "\n",
    "Below we will plot several simple functions of x and customise the plot."
   ]
  },
  {
   "cell_type": "code",
   "execution_count": null,
   "metadata": {
    "collapsed": false,
    "jupyter": {
     "outputs_hidden": false
    }
   },
   "outputs": [],
   "source": [
    "x = np.linspace(0, 2, 100)  # Sample data.\n",
    "fig, ax = plt.subplots(figsize=(5, 2.7), layout='constrained')\n",
    "ax.plot(x, x, label='linear', color='green')  # Plot some data on the axes. # Change color to green.\n",
    "ax.plot(x, x**2, label='quadratic', linestyle='dashed')  # Plot more data on the axes using a dashed line.\n",
    "ax.plot(x, x**3, label='cubic', linewidth=2)  # Plot more data on the axes using a thicker line.\n",
    "ax.plot(x, x**(1/2), label='square root', color='red', linestyle='dotted', linewidth=2)  # Plot more data on the axes using a thick dotted red line.\n",
    "ax.set_xlabel('X')  # Add an x-label to the axes.\n",
    "ax.set_ylabel('f(x)')  # Add a y-label to the axes.\n",
    "ax.set_title(\"Simple functions of X\")  # Add a title to the axes.\n",
    "ax.legend()  # Add a legend."
   ]
  },
  {
   "cell_type": "markdown",
   "metadata": {
    "collapsed": false,
    "jupyter": {
     "outputs_hidden": false
    }
   },
   "source": [
    "# 2.4 Further tutorials and reading on MatPloLib:\n",
    "\n",
    "Matplotlib is versitile library for producing many styles of plots. I would recommend looking up the following:\n",
    "* A more in depth set of tutorials: [https://matplotlib.org/stable/tutorials/index.html](https://matplotlib.org/stable/tutorials/index.html).\n",
    "* A gallery demonstrating how to make specific plots:  [https://matplotlib.org/stable/gallery/index.html](https://matplotlib.org/stable/gallery/index.html)."
   ]
  },
  {
   "cell_type": "markdown",
   "metadata": {
    "collapsed": false,
    "jupyter": {
     "outputs_hidden": false
    }
   },
   "source": [
    "# 3. PyGOM\n",
    "\n",
    "In this section we will set up an Susceptible Infected Recovered (SIR) model in PyGOM, derive its Basic Reproductive number ($R_0$), then simulate it both deterministically and stochastically. Many more examples of PyGOM's use can be found at:\n",
    "* Tye, E., Finnie, T., Hall, I., & Leach, S. (2018). PyGOM - A Python Package for Simplifying Modelling with Systems of Ordinary Differential Equations. [http://arxiv.org/abs/1803.06934](http://arxiv.org/abs/1803.06934)\n",
    "* Public Health England. (2019). PyGOM Documentation. [https://pygom.readthedocs.io/en/master/](https://pygom.readthedocs.io/en/master/)\n",
    "* Tye, E., Finnie, T., Williams, H., Grunnill, M., Carruthers, J., Durrant, T., Harley, D., & Collaboration, U. (2023). PyGOM. UKHSA Collaboration. [https://github.com/ukhsa-collaboration/pygom](https://github.com/ukhsa-collaboration/pygom)\n",
    "\n",
    "**Note** PyGOM's documentation tends to draw upon:\n",
    "Brauer, F., Castillo-Chavez, C., & Feng, Z. (2008). Mathematical models in Epidemiology. In Texts in Applied Mathmatics (Vol. 69). Springer. [https://doi.org/10.1007/978-1-4939-9828-9](https://doi.org/10.1007/978-1-4939-9828-9)\n",
    "\n",
    "# 3.1 Setting up an ODE system\n",
    "\n",
    "Using PyGOM, we will set up a simple SIR model. This model has many simplifying assumptions, including:\n",
    "- no births or deaths\n",
    "- homogeneous mixing\n",
    "- no interventions\n",
    "\n",
    "Suscebtible population (S) are those that can catch the disease. A susceptible person becomes infected when they interact with an infected person. The chance of this interaction resulting in infection is described with parameter $\\beta$.\n",
    "\n",
    "$ \\frac{dS}{dt} = -\\beta S I$\n",
    "\n",
    "Infected population (I) recover at rate $\\gamma$.\n",
    "\n",
    "$ \\frac{dI}{dt} = \\beta S I - \\gamma I$\n",
    "\n",
    "Removed population (R) are those who have immunity (described with initial conditions) or have recovered/died from the disease.\n",
    "\n",
    "$ \\frac{dR}{dt} = \\gamma I$\n",
    "\n",
    "Total population (N) is given by $N = S + I + R$."
   ]
  },
  {
   "cell_type": "code",
   "execution_count": null,
   "metadata": {
    "collapsed": false,
    "jupyter": {
     "outputs_hidden": false
    }
   },
   "outputs": [],
   "source": [
    "from pygom import Transition, TransitionType, SimulateOde # import necesary objects from pygom\n",
    "import pygom\n",
    "\n",
    "states = ['S', 'I', 'R']  # Set the states\n",
    "params = ['beta', 'gamma'] # Set the parameters.\n",
    "\n",
    "# Setting up models by transitions:\n",
    "transitions = [Transition(origin='S', destination='I', equation='beta*S*I',\n",
    "                          transition_type=TransitionType.T),\n",
    "               Transition(origin='I', destination='R', equation='gamma*I',\n",
    "                          transition_type=TransitionType.T)]\n",
    "model = SimulateOde(states, params, transition=transitions)"
   ]
  },
  {
   "cell_type": "markdown",
   "metadata": {
    "collapsed": false,
    "jupyter": {
     "outputs_hidden": false
    }
   },
   "source": [
    "**Note** if you wanted to a births or deaths you would have to create a separate list of birth and death transitions, see [https://pygom.readthedocs.io/en/master/transition.html](https://pygom.readthedocs.io/en/master/transition.html). This list of birth and death transitions can be added at initialising `SimulateOde`, through the argument `birth_death`.\n",
    "\n",
    "\n",
    "You can set up models using equations (see below). However, stochastic (Continuous Markov) based simulations will not be available."
   ]
  },
  {
   "cell_type": "code",
   "execution_count": null,
   "metadata": {
    "collapsed": false,
    "jupyter": {
     "outputs_hidden": false
    }
   },
   "outputs": [],
   "source": [
    "# Setting up models by equations:\n",
    "equations = [Transition(origin='S', equation='-beta*S*I', transition_type=TransitionType.ODE),\n",
    "             Transition(origin='I', equation='beta*S*I - gamma*I', transition_type=TransitionType.ODE),\n",
    "             Transition(origin='R', equation='gamma*I', transition_type=TransitionType.ODE)]\n",
    "model_by_equations = SimulateOde(states, params, ode=equations)"
   ]
  },
  {
   "cell_type": "markdown",
   "metadata": {
    "collapsed": false,
    "jupyter": {
     "outputs_hidden": false
    }
   },
   "source": [
    "You can get several representation of the models ODEs:"
   ]
  },
  {
   "cell_type": "code",
   "execution_count": null,
   "metadata": {
    "collapsed": false,
    "jupyter": {
     "outputs_hidden": false
    }
   },
   "outputs": [],
   "source": [
    "model.get_ode_eqn() # Equations for a state variable are printed in the order the variable was entered in the `states` list."
   ]
  },
  {
   "cell_type": "code",
   "execution_count": null,
   "metadata": {
    "collapsed": false,
    "jupyter": {
     "outputs_hidden": false
    }
   },
   "outputs": [],
   "source": [
    "model.print_ode()"
   ]
  },
  {
   "cell_type": "code",
   "execution_count": null,
   "metadata": {
    "collapsed": false,
    "jupyter": {
     "outputs_hidden": false
    }
   },
   "outputs": [],
   "source": [
    "model.print_ode(latex_output=True) # a latex representation."
   ]
  },
  {
   "cell_type": "markdown",
   "metadata": {
    "collapsed": false,
    "jupyter": {
     "outputs_hidden": false
    }
   },
   "source": [
    "## 3.2 Deriving $R_0$\n",
    "\n",
    "You can use Pygom's `R0` function to find `R0` this uses Next Generation Matrix methods as outlined in:\n",
    "\n",
    "Brauer, F., Castillo-Chavez, C., & Feng, Z. (2008). The Next Generation Matrix and the Basic Reproduction Number. In Mathmatical Models in Epidimiology (pp. 182–188). Springer. [https://doi.org/10.1007/978-1-4939-9828-9](https://doi.org/10.1007/978-1-4939-9828-9)\n",
    "\n",
    "Diekmann, O., Heesterbeek, J. A. P., & Roberts, M. G. (2010). The construction of next-generation matrices for compartmental epidemic models. Journal of the Royal Society Interface, 7(47), 873–885. [https://doi.org/10.1098/rsif.2009.0386](https://doi.org/10.1098/rsif.2009.0386)\n",
    "\n",
    "**Note Again** PyGOM's documentation tends to draw upon:\n",
    "Brauer, F., Castillo-Chavez, C., & Feng, Z. (2008). Mathematical models in Epidemiology. In Texts in Applied Mathmatics (Vol. 69). Springer. [https://doi.org/10.1007/978-1-4939-9828-9](https://doi.org/10.1007/978-1-4939-9828-9)"
   ]
  },
  {
   "cell_type": "code",
   "execution_count": null,
   "metadata": {
    "collapsed": false,
    "jupyter": {
     "outputs_hidden": false
    }
   },
   "outputs": [],
   "source": [
    "import pygom"
   ]
  },
  {
   "cell_type": "code",
   "execution_count": null,
   "metadata": {
    "collapsed": false,
    "jupyter": {
     "outputs_hidden": false
    }
   },
   "outputs": [],
   "source": [
    "disease_state='I'\n",
    "F, V = pygom.disease_progression_matrices(model, disease_state=disease_state) # F is secondary infection rates, V is disease progression rates\n",
    "eigs = pygom.R0_from_matrix(F,V)\n",
    "eigs"
   ]
  },
  {
   "cell_type": "code",
   "execution_count": null,
   "metadata": {
    "collapsed": false,
    "jupyter": {
     "outputs_hidden": false
    }
   },
   "outputs": [],
   "source": [
    "R_0_ = eigs[0]\n",
    "R_0_"
   ]
  },
  {
   "cell_type": "markdown",
   "metadata": {
    "collapsed": false,
    "jupyter": {
     "outputs_hidden": false
    }
   },
   "source": [
    "Remember that S at time 0 is approximate to our total population (N). Therefore, $R_0\\approx\\frac{N\\beta}{\\gamma}$.\n",
    "\n",
    "**Note** pygom does have the function `R0` but his sometimes gives the incorrect value of 0. I recommend using the above method in that instance."
   ]
  },
  {
   "cell_type": "markdown",
   "metadata": {
    "collapsed": false,
    "jupyter": {
     "outputs_hidden": false
    }
   },
   "source": [
    "# 3.3 Deterministic simulation.\n",
    "\n",
    "\n",
    "Before we get to the simulations we may want a progress bar as we will running several simulations in a for loop. The package tqdm provides a grate progress bar:"
   ]
  },
  {
   "cell_type": "code",
   "execution_count": null,
   "metadata": {
    "collapsed": false,
    "jupyter": {
     "outputs_hidden": false
    }
   },
   "outputs": [],
   "source": [
    "from tqdm import tqdm"
   ]
  },
  {
   "cell_type": "markdown",
   "metadata": {
    "collapsed": false,
    "jupyter": {
     "outputs_hidden": false
    }
   },
   "source": [
    "\n",
    "Lets simulate some different outbreaks in a small town of 1,000,000. We will assume that the recovery period remains at 7 days but the $R_0$ is varied via $\\beta$ using $\\beta=\\frac{\\gamma R_0}{N}$."
   ]
  },
  {
   "cell_type": "code",
   "execution_count": null,
   "metadata": {
    "collapsed": false,
    "jupyter": {
     "outputs_hidden": false
    }
   },
   "outputs": [],
   "source": [
    "def beta_from_R0(R0,gamma,N):\n",
    "    \"\"\"\n",
    "    Determine beta from R0\n",
    "\n",
    "    Parameters\n",
    "    ----------\n",
    "    R0 : int or float\n",
    "    gamma : int or float\n",
    "    N : int or float\n",
    "\n",
    "    Returns\n",
    "    -------\n",
    "    beta : float\n",
    "    \"\"\"\n",
    "    beta = (gamma*R0)/N\n",
    "    return beta"
   ]
  },
  {
   "cell_type": "code",
   "execution_count": null,
   "metadata": {
    "collapsed": false,
    "jupyter": {
     "outputs_hidden": false
    }
   },
   "outputs": [],
   "source": [
    "# Set up gamma:\n",
    "gamma = 1/7\n",
    "# set up R0 values\n",
    "R0s = [1.5, 2, 4, 6, 8, 10]\n",
    "# Setup initial population:\n",
    "N = 1000000\n",
    "I = 1\n",
    "R = 0\n",
    "S = N - I - R\n",
    "initial_population = [S, I, R]\n",
    "\n",
    "\n",
    "# time\n",
    "t = np.arange(0,366,1)\n",
    "\n",
    "# Assign initial time and population to the model\n",
    "model.initial_state = initial_population\n",
    "model.initial_time = t[0]\n",
    "\n",
    "deterministic_solutions = {}\n",
    "parameters_dict = {'gamma':gamma}\n",
    "for R0 in tqdm(R0s, desc='R_0 value'): # This actually runs pretty quick we may not need the progress bar.\n",
    "    parameters_dict['beta'] = beta_from_R0(R0,gamma,N)\n",
    "    model.parameters = parameters_dict\n",
    "    deterministic_solutions['R0 = ' + str(R0)] = model.integrate(t[1:])\n"
   ]
  },
  {
   "cell_type": "code",
   "execution_count": null,
   "metadata": {
    "collapsed": false,
    "jupyter": {
     "outputs_hidden": false
    }
   },
   "outputs": [],
   "source": [
    "deterministic_solutions"
   ]
  },
  {
   "cell_type": "markdown",
   "metadata": {
    "collapsed": false,
    "jupyter": {
     "outputs_hidden": false
    }
   },
   "source": [
    "Lets plot the solutions:"
   ]
  },
  {
   "cell_type": "code",
   "execution_count": null,
   "metadata": {
    "collapsed": false,
    "jupyter": {
     "outputs_hidden": false
    }
   },
   "outputs": [],
   "source": [
    "plt.rcParams['figure.figsize'] = [12, 6]\n",
    "\n",
    "fig, (ax1, ax2, ax3) = plt.subplots(1,3)\n",
    "for R0 in R0s:\n",
    "    key = 'R0 = ' + str(R0)\n",
    "    solution = deterministic_solutions[key]\n",
    "    ax1.plot(t, solution[:,0], label=key)\n",
    "    ax2.plot(t, solution[:,1], label=key)\n",
    "    ax3.plot(t, solution[:,2], label=key)\n",
    "\n",
    "ax1.ticklabel_format(style='sci', axis='y', scilimits=(0,0))\n",
    "ax2.ticklabel_format(style='sci', axis='y', scilimits=(0,0))\n",
    "ax3.ticklabel_format(style='sci', axis='y', scilimits=(0,0))\n",
    "ax1.set_title('Susceptible')\n",
    "ax2.set_title('Infected')\n",
    "ax3.set_title('Removed')\n",
    "ax3.legend()"
   ]
  },
  {
   "cell_type": "markdown",
   "metadata": {
    "collapsed": false,
    "jupyter": {
     "outputs_hidden": false
    }
   },
   "source": [
    "Lets find peak infected the time that occured for each simulation."
   ]
  },
  {
   "cell_type": "code",
   "execution_count": null,
   "metadata": {
    "collapsed": false,
    "jupyter": {
     "outputs_hidden": false
    }
   },
   "outputs": [],
   "source": [
    "peak_info = {key: {'infected': max(solution[:,1]),\n",
    "                   'time': t[np.argmax(solution[:,1])]}\n",
    "             for key, solution in deterministic_solutions.items()}\n",
    "display(peak_info)"
   ]
  },
  {
   "cell_type": "markdown",
   "metadata": {
    "collapsed": false,
    "jupyter": {
     "outputs_hidden": false
    }
   },
   "source": [
    "# 3.3 Stochastic simulation.\n",
    "\n",
    "Pygom has the ability to simulate models stochastically via Markov chains.\n",
    "\n",
    "Lets do ten simulations of our model with our first $R_0$ value."
   ]
  },
  {
   "cell_type": "code",
   "execution_count": null,
   "metadata": {
    "collapsed": false,
    "jupyter": {
     "outputs_hidden": false
    }
   },
   "outputs": [],
   "source": [
    "R0 = R0s[0]\n",
    "iterations =10\n",
    "parameters_dict['beta'] = beta_from_R0(R0,gamma,N)\n",
    "model.parameters = parameters_dict\n",
    "stochastic_solution = model.simulate_jump(t[1:],iterations)\n",
    "stochastic_solution # the results of the 10 iterations are held as arrays within a list."
   ]
  },
  {
   "cell_type": "markdown",
   "metadata": {
    "collapsed": false,
    "jupyter": {
     "outputs_hidden": false
    }
   },
   "source": [
    "Pygom has a useful method for plotting the results from these solution."
   ]
  },
  {
   "cell_type": "code",
   "execution_count": null,
   "metadata": {
    "collapsed": false,
    "jupyter": {
     "outputs_hidden": false
    }
   },
   "outputs": [],
   "source": [
    "model.plot(stochastic_solution,t[1:])"
   ]
  },
  {
   "cell_type": "markdown",
   "metadata": {
    "collapsed": false,
    "jupyter": {
     "outputs_hidden": false
    }
   },
   "source": [
    "## 3.4 Some useful notes on PyGOM.\n",
    "\n",
    "PyGOM has several model fitting procedures (follow hyperlinks below):\n",
    "* [Simple Square loss](https://github.com/ukhsa-collaboration/pygom/blob/master/notebooks/ParameterEstimation.ipynb)\n",
    "* [Maximum Likelihood Estimation (via gradient descent) for Normal, Poisson, Gamma and Negative Binomial Distributions.](https://github.com/ukhsa-collaboration/pygom/blob/master/notebooks/Testing%20loss%20functions%20fitted%20to%20simulated%20data.ipynb)\n",
    "* [Approximate Bayesian Computation](https://github.com/ukhsa-collaboration/pygom/blob/master/notebooks/abc_eg.ipynb)\n",
    "\n",
    "If you plan on doing a large number of stochastic simulations you may wish to look up using parallel processing via dask with pygom. A useful example of pygom intergrating dask is found at [https://github.com/ukhsa-collaboration/pygom/blob/master/notebooks/Demo%20parallel%20stochastic%20simulation.ipynb](https://github.com/ukhsa-collaboration/pygom/blob/master/notebooks/Demo%20parallel%20stochastic%20simulation.ipynb).\n",
    "\n",
    "As models get larger pygom can get quite slow. This is due to pygom doing a lot of human error checking. You may want to look at writing the model yourself using scipy's odeint integrator.\n",
    "\n",
    "\n",
    "PyGOM's simulate jump method attempts to use Cao's $\\tau$-leap first, then use Gillipsie's exact method if jump was not accurate enough. This is not entirely clear from the documentation.\n",
    "\n",
    "Cao, Y., Gillespie, D. T., & Petzold, L. R. (2006). Efficient step size selection for the tau-leaping simulation method. Journal of Chemical Physics, 124(4), 044109. [https://doi.org/10.1063/1.2159468](https://doi.org/10.1063/1.2159468)\n",
    "\n",
    "Cao, Y., Gillespie, D. T., & Petzold, L. R. (2011). The Adaptive Explicit-Implicit Tau-Leaping Method with Automatic Tau Selection. The Journal of Chemical Physics, 126(22), 224101.\n",
    "\n",
    "Gillespie, D. T. (1977). Exact stochastic simulation of coupled chemical reactions. Journal of Physical Chemistry, 81(25), 2340–2361. [https://doi.org/10.1021/j100540a008](https://doi.org/10.1021/j100540a008)"
   ]
  },
  {
   "cell_type": "markdown",
   "metadata": {
    "collapsed": false,
    "jupyter": {
     "outputs_hidden": false
    }
   },
   "source": [
    "# 4. Pandas (Optional)\n",
    "\n",
    "Pandas is an incredibly useful package for dealing with data of a tabular form. The name comes from **pan**el **da**ta. Pandas is built around the data type DataFrames which are comprised of Series. Series are 1-dimensional data structures built on top of NumPy's array. DataFrames are 2-dimensional data structures of rows and columns, similar to a spreadsheet, and analogous to a Python dictionary mapping column names (keys) to Series (values), with all the Series sharing a single index.\n",
    "\n",
    "Much of pandas dataframe design takes inspiration from R's dataframe.\n",
    "\n",
    "## 4.1 Creating a pandas DataFrame\n",
    "\n",
    "Here we will run stochastic simulation of our pygom model for our different $R_0$ ($\\beta$) values and enter the results into a DataFrame. Lets start by importing pandas."
   ]
  },
  {
   "cell_type": "code",
   "execution_count": null,
   "metadata": {
    "collapsed": false,
    "jupyter": {
     "outputs_hidden": false
    }
   },
   "outputs": [],
   "source": [
    "import pandas as pd"
   ]
  },
  {
   "cell_type": "markdown",
   "metadata": {
    "collapsed": false,
    "jupyter": {
     "outputs_hidden": false
    }
   },
   "source": [
    "Now we will put our first set of stochastic soluions in a DataFrame."
   ]
  },
  {
   "cell_type": "code",
   "execution_count": null,
   "metadata": {
    "collapsed": false,
    "jupyter": {
     "outputs_hidden": false
    }
   },
   "outputs": [],
   "source": [
    "def pygom_stoch_sols_to_df(stock_sols, time, param_label, param_value):\n",
    "    num_repeats = len(stock_sols)\n",
    "    stock_sols = np.vstack(stock_sols) # Vertically stack the arrays.\n",
    "    df = pd.DataFrame(stock_sols, columns=['Susceptible', 'Infected', 'Recovered'])\n",
    "    df.insert(0, 'Time', np.tile(time[1:], num_repeats))\n",
    "    df.insert(0, 'Iteration', np.repeat(range(iterations),len(time[1:])))\n",
    "    df.insert(0, param_label, np.full(len(stock_sols), param_value))\n",
    "    return df\n",
    "\n",
    "df = pygom_stoch_sols_to_df(stock_sols=stochastic_solution, time=t, param_label='R0', param_value=R0)\n",
    "df"
   ]
  },
  {
   "cell_type": "markdown",
   "metadata": {
    "collapsed": false,
    "jupyter": {
     "outputs_hidden": false
    }
   },
   "source": [
    "Now that we have a function for changing our stochastic solution into a single data frame we can run several sets of stochastic simulations putting them into a list of dataframes."
   ]
  },
  {
   "cell_type": "code",
   "execution_count": null,
   "metadata": {
    "collapsed": false,
    "jupyter": {
     "outputs_hidden": false
    }
   },
   "outputs": [],
   "source": [
    "dfs = [df]\n",
    "for R0 in tqdm(R0s[1:], desc='R0'):\n",
    "    parameters_dict['beta'] = beta_from_R0(R0,gamma,N)\n",
    "    model.parameters = parameters_dict\n",
    "    stochastic_solution = model.simulate_jump(t[1:],iterations)\n",
    "    df = pygom_stoch_sols_to_df(stock_sols=stochastic_solution, time=t, param_label='R0', param_value=R0)\n",
    "    dfs.append(df)"
   ]
  },
  {
   "cell_type": "markdown",
   "metadata": {
    "collapsed": false,
    "jupyter": {
     "outputs_hidden": false
    }
   },
   "source": [
    "A list of pandas dataframes can be concatanated into a single dataframe:"
   ]
  },
  {
   "cell_type": "code",
   "execution_count": null,
   "metadata": {
    "collapsed": false,
    "jupyter": {
     "outputs_hidden": false
    }
   },
   "outputs": [],
   "source": [
    "df = pd.concat(dfs)\n",
    "df"
   ]
  },
  {
   "cell_type": "markdown",
   "metadata": {
    "collapsed": false,
    "jupyter": {
     "outputs_hidden": false
    }
   },
   "source": [
    "## 4.2 Writing and reading a pandas Dataframe.\n",
    "\n",
    " Dataframes can be writen into csv, json files, and excel spreadsheets. Lets write the df dataframe to a csv."
   ]
  },
  {
   "cell_type": "code",
   "execution_count": null,
   "metadata": {
    "collapsed": false,
    "jupyter": {
     "outputs_hidden": false
    }
   },
   "outputs": [],
   "source": [
    "df.to_csv('Stochastic_sim.csv', index=False) # Note without index=False the first column of the csv will be the index."
   ]
  },
  {
   "cell_type": "markdown",
   "metadata": {
    "collapsed": false,
    "jupyter": {
     "outputs_hidden": false
    }
   },
   "source": [
    "This csv can also be read into a pandas dataframe:"
   ]
  },
  {
   "cell_type": "code",
   "execution_count": null,
   "metadata": {
    "collapsed": false,
    "jupyter": {
     "outputs_hidden": false
    }
   },
   "outputs": [],
   "source": [
    "df = pd.read_csv('Stochastic_sim.csv')\n",
    "df"
   ]
  },
  {
   "cell_type": "markdown",
   "metadata": {
    "collapsed": false,
    "jupyter": {
     "outputs_hidden": false
    }
   },
   "source": [
    "## 4.3 Indexing dataframes\n",
    "\n",
    "Pandas inherits numpy's 2D positional interger indexing through the attribute `iloc`. More on positional indexing can be found at [https://pandas.pydata.org/docs/user_guide/indexing.html#indexing-integer](https://pandas.pydata.org/docs/user_guide/indexing.html#indexing-integer).\n",
    "\n",
    "If instead you wish to use a label of a column or a row for index this is done via the attribute `loc`. More on label indexing can be found at [https://pandas.pydata.org/docs/user_guide/indexing.html#indexing-label](https://pandas.pydata.org/docs/user_guide/indexing.html#indexing-label).\n",
    "\n",
    "You can also index via bool values and conditional statements, see [https://pandas.pydata.org/docs/user_guide/indexing.html#boolean-indexing](https://pandas.pydata.org/docs/user_guide/indexing.html#boolean-indexing).\n",
    "\n",
    "For more tutorials on indexing see [https://pandas.pydata.org/docs/user_guide/indexing.html](https://pandas.pydata.org/docs/user_guide/indexing.html).\n",
    "\n"
   ]
  },
  {
   "cell_type": "markdown",
   "metadata": {
    "collapsed": false,
    "jupyter": {
     "outputs_hidden": false
    }
   },
   "source": [
    "# 5. Seaborn (Optional)\n",
    "\n",
    "Seaborn is a highlevel graphical package built on top of matplotlib.\n",
    "Lets start by importing Seaborn"
   ]
  },
  {
   "cell_type": "code",
   "execution_count": null,
   "metadata": {
    "collapsed": false,
    "jupyter": {
     "outputs_hidden": false
    }
   },
   "outputs": [],
   "source": [
    "import seaborn as sns"
   ]
  },
  {
   "cell_type": "markdown",
   "metadata": {
    "collapsed": false,
    "jupyter": {
     "outputs_hidden": false
    }
   },
   "source": [
    "# 5.1 Creating A FacetGrid plot.\n",
    "\n",
    "Here we will use seaborn to plot our results on a FacetGrid of subplots.\n",
    " prefers data in a long format as opposed to wide format. So we first use pandas to `melt` our data into this format."
   ]
  },
  {
   "cell_type": "code",
   "execution_count": null,
   "metadata": {
    "collapsed": false,
    "jupyter": {
     "outputs_hidden": false
    }
   },
   "outputs": [],
   "source": [
    "df.columns # recalls  the column labels."
   ]
  },
  {
   "cell_type": "code",
   "execution_count": null,
   "metadata": {
    "collapsed": false,
    "jupyter": {
     "outputs_hidden": false
    }
   },
   "outputs": [],
   "source": [
    "df_ploting = df.melt(id_vars=['R0', 'Iteration', 'Time'], value_vars=['Susceptible', 'Infected', 'Recovered'], var_name='Population', value_name='People')\n",
    "df_ploting"
   ]
  },
  {
   "cell_type": "code",
   "execution_count": null,
   "metadata": {
    "collapsed": false,
    "jupyter": {
     "outputs_hidden": false
    }
   },
   "outputs": [],
   "source": [
    "sns.relplot(data=df_ploting, col='Population',row='Iteration', hue='R0',x='Time', y='People', kind='line')"
   ]
  },
  {
   "cell_type": "markdown",
   "metadata": {
    "collapsed": false,
    "jupyter": {
     "outputs_hidden": false
    }
   },
   "source": [
    "## 5.2 Useful reading on seaborn\n",
    "\n",
    "Seaborn's own website provide:\n",
    "* An excellent gallery of example plots you can produce with seaborn: [https://seaborn.pydata.org/examples/index.html](https://seaborn.pydata.org/examples/index.html).\n",
    "* Useful tutorials: [https://seaborn.pydata.org/tutorial.html](https://seaborn.pydata.org/tutorial.html)."
   ]
  },
  {
   "cell_type": "markdown",
   "metadata": {
    "collapsed": false,
    "jupyter": {
     "outputs_hidden": false
    }
   },
   "source": [
    "# 6. Sympy (Optional)\n",
    "\n",
    "\n",
    "Sympy stands for **sym**bolic algebra in **py**thon.\n",
    "I have provided an extra notebook (from a previous seminar), titled \"R0 in Sympy and PyGOM.inpnyb\". This extra notebook provides an example of Sympy being used to dervie $R_0$."
   ]
  }
 ],
 "metadata": {
  "kernelspec": {
   "display_name": "Python 3 (ipykernel)",
   "language": "python",
   "name": "python3"
  },
  "language_info": {
   "codemirror_mode": {
    "name": "ipython",
    "version": 3
   },
   "file_extension": ".py",
   "mimetype": "text/x-python",
   "name": "python",
   "nbconvert_exporter": "python",
   "pygments_lexer": "ipython3",
   "version": "3.11.7"
  }
 },
 "nbformat": 4,
 "nbformat_minor": 4
}
