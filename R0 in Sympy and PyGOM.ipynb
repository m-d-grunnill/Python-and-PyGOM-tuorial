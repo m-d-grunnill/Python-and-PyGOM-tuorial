{
 "cells": [
  {
   "cell_type": "markdown",
   "id": "db70c952",
   "metadata": {},
   "source": [
    "# Deriving R<sub>0</sub> (Basic Reproductive Number) in Sympy and PyGOM"
   ]
  },
  {
   "cell_type": "code",
   "execution_count": null,
   "id": "27af6d74",
   "metadata": {
    "pycharm": {
     "is_executing": true
    }
   },
   "outputs": [],
   "source": [
    "#Set up sympy to display outputs as mathmatical formula as opposed to latex.\n",
    "from sympy.interactive import printing\n",
    "printing.init_printing(use_latex=True)"
   ]
  },
  {
   "cell_type": "markdown",
   "id": "7c128fb4",
   "metadata": {},
   "source": [
    "For this notebook we will be following the example given in section 2.1 of:\n",
    "\n",
    "Diekmann, O., Heesterbeek, J. A. P., & Roberts, M. G. (2010). The construction of next-generation matrices for compartmental epidemic models. Journal of the Royal Society Interface, 7(47), 873–885. https://doi.org/10.1098/rsif.2009.0386\n",
    "\n",
    "## 1. Deriving R0 (Basic Reproductive Number) in Sympy"
   ]
  },
  {
   "cell_type": "code",
   "execution_count": 15,
   "id": "869e0e7c",
   "metadata": {},
   "outputs": [],
   "source": [
    "# First we need to import sympy\n",
    "import sympy \n",
    "# We also need to import copy for copying items\n",
    "import copy"
   ]
  },
  {
   "cell_type": "markdown",
   "id": "5d31062f",
   "metadata": {},
   "source": [
    "### 1.2 Setup Model"
   ]
  },
  {
   "cell_type": "code",
   "execution_count": 16,
   "id": "3080043d",
   "metadata": {},
   "outputs": [],
   "source": [
    "# Setup Symbols for Sympy\n",
    "N, S, E_1, E_2, I, R, mu, beta, p, nu_1, nu_2, gamma = sympy.symbols('N S E_1 E_2 I R mu beta p nu_1 nu_2 gamma')"
   ]
  },
  {
   "cell_type": "code",
   "execution_count": 17,
   "id": "d425b3b4",
   "metadata": {},
   "outputs": [
    {
     "data": {
      "image/png": "[encoded data removed]",
      "text/latex": [
       "$\\displaystyle \\left[\\begin{matrix}- \\frac{I S \\beta}{N} + N \\mu - S \\mu\\\\- E_{1} \\left(\\mu + \\nu_{1}\\right) + \\frac{I S \\beta p}{N}\\\\- E_{2} \\left(\\mu + \\nu_{2}\\right) + \\frac{I S \\beta \\left(1 - p\\right)}{N}\\\\E_{1} \\nu_{1} + E_{2} \\nu_{2} - I \\left(\\gamma + \\mu\\right)\\\\I \\gamma - R \\mu\\end{matrix}\\right]$"
      ],
      "text/plain": [
       "⎡      I⋅S⋅β                 ⎤\n",
       "⎢    - ───── + N⋅μ - S⋅μ     ⎥\n",
       "⎢        N                   ⎥\n",
       "⎢                            ⎥\n",
       "⎢                  I⋅S⋅β⋅p   ⎥\n",
       "⎢   -E₁⋅(μ + ν₁) + ───────   ⎥\n",
       "⎢                     N      ⎥\n",
       "⎢                            ⎥\n",
       "⎢               I⋅S⋅β⋅(1 - p)⎥\n",
       "⎢-E₂⋅(μ + ν₂) + ─────────────⎥\n",
       "⎢                     N      ⎥\n",
       "⎢                            ⎥\n",
       "⎢ E₁⋅ν₁ + E₂⋅ν₂ - I⋅(γ + μ)  ⎥\n",
       "⎢                            ⎥\n",
       "⎣         I⋅γ - R⋅μ          ⎦"
      ]
     },
     "execution_count": 17,
     "metadata": {},
     "output_type": "execute_result"
    }
   ],
   "source": [
    "# The system can be described as\n",
    "ODE_S = mu*N-beta*S*I/N-mu*S\n",
    "ODE_E_1 = p*beta*S*I/N-(mu+nu_1)*E_1\n",
    "ODE_E_2 = (1-p)*beta*S*I/N-(mu+nu_2)*E_2\n",
    "ODE_I = nu_1*E_1+nu_2*E_2-(mu+gamma)*I\n",
    "ODE_R = gamma*I-mu*R\n",
    "\n",
    "ODEs = sympy.Matrix([ODE_S,ODE_E_1,ODE_E_2,ODE_I,ODE_R])\n",
    "ODEs"
   ]
  },
  {
   "cell_type": "markdown",
   "id": "43735731",
   "metadata": {},
   "source": [
    "## 1.2 Get jacobian of infected stages"
   ]
  },
  {
   "cell_type": "code",
   "execution_count": 18,
   "id": "cae5f027",
   "metadata": {},
   "outputs": [
    {
     "data": {
      "image/png": "[encoded data removed]",
      "text/latex": [
       "$\\displaystyle \\left[\\begin{matrix}- E_{1} \\left(\\mu + \\nu_{1}\\right) + \\frac{I S \\beta p}{N}\\\\- E_{2} \\left(\\mu + \\nu_{2}\\right) + \\frac{I S \\beta \\left(1 - p\\right)}{N}\\\\E_{1} \\nu_{1} + E_{2} \\nu_{2} - I \\left(\\gamma + \\mu\\right)\\end{matrix}\\right]$"
      ],
      "text/plain": [
       "⎡                  I⋅S⋅β⋅p   ⎤\n",
       "⎢   -E₁⋅(μ + ν₁) + ───────   ⎥\n",
       "⎢                     N      ⎥\n",
       "⎢                            ⎥\n",
       "⎢               I⋅S⋅β⋅(1 - p)⎥\n",
       "⎢-E₂⋅(μ + ν₂) + ─────────────⎥\n",
       "⎢                     N      ⎥\n",
       "⎢                            ⎥\n",
       "⎣ E₁⋅ν₁ + E₂⋅ν₂ - I⋅(γ + μ)  ⎦"
      ]
     },
     "execution_count": 18,
     "metadata": {},
     "output_type": "execute_result"
    }
   ],
   "source": [
    "# We are only interested in the, latent and infectious compartments\n",
    "ODEs_infecteds = sympy.Matrix([ODE_E_1,ODE_E_2,ODE_I])\n",
    "ODEs_infecteds"
   ]
  },
  {
   "cell_type": "markdown",
   "id": "0da870aa",
   "metadata": {},
   "source": [
    "## 1.3 Obtainning matrix  of transitions between or out of infectious stages ($\\Sigma$)"
   ]
  },
  {
   "cell_type": "code",
   "execution_count": 19,
   "id": "3b3da890",
   "metadata": {},
   "outputs": [
    {
     "data": {
      "image/png": "[encoded data removed]",
      "text/latex": [
       "$\\displaystyle \\left[\\begin{matrix}- \\mu - \\nu_{1} & 0 & \\frac{S \\beta p}{N}\\\\0 & - \\mu - \\nu_{2} & \\frac{S \\beta \\left(1 - p\\right)}{N}\\\\\\nu_{1} & \\nu_{2} & - \\gamma - \\mu\\end{matrix}\\right]$"
      ],
      "text/plain": [
       "⎡                     S⋅β⋅p   ⎤\n",
       "⎢-μ - ν₁     0        ─────   ⎥\n",
       "⎢                       N     ⎥\n",
       "⎢                             ⎥\n",
       "⎢                  S⋅β⋅(1 - p)⎥\n",
       "⎢   0     -μ - ν₂  ───────────⎥\n",
       "⎢                       N     ⎥\n",
       "⎢                             ⎥\n",
       "⎣  ν₁       ν₂       -γ - μ   ⎦"
      ]
     },
     "execution_count": 19,
     "metadata": {},
     "output_type": "execute_result"
    }
   ],
   "source": [
    "# The jacobian of the infecteds\n",
    "jacobian_of_infecteds = ODEs_infecteds.jacobian(X=[E_1, E_2, I])\n",
    "jacobian_of_infecteds"
   ]
  },
  {
   "cell_type": "code",
   "execution_count": 30,
   "id": "24f27c31",
   "metadata": {},
   "outputs": [
    {
     "data": {
      "image/png": "[encoded data removed]",
      "text/latex": [
       "$\\displaystyle \\left[\\begin{matrix}- \\mu - \\nu_{1} & 0 & 0\\\\0 & - \\mu - \\nu_{2} & 0\\\\\\nu_{1} & \\nu_{2} & - \\gamma - \\mu\\end{matrix}\\right]$"
      ],
      "text/plain": [
       "⎡-μ - ν₁     0       0   ⎤\n",
       "⎢                        ⎥\n",
       "⎢   0     -μ - ν₂    0   ⎥\n",
       "⎢                        ⎥\n",
       "⎣  ν₁       ν₂     -γ - μ⎦"
      ]
     },
     "execution_count": 30,
     "metadata": {},
     "output_type": "execute_result"
    }
   ],
   "source": [
    "# e.g. removing people becoming infected from the jacobian above.\n",
    "Sigma = copy.deepcopy(jacobian_of_infecteds)\n",
    "Sigma[0,2] = 0 # Sigma[0,2] = Sigma[0,2]-S*beta*p/N would work to. .subs method can also be used see below.\n",
    "Sigma[1,2] = Sigma[1,2]-S*beta*(1-p)/N # Sigma[1,2] = 0 would work to. .subs method can also be used see below.\n",
    "Sigma"
   ]
  },
  {
   "cell_type": "markdown",
   "id": "d70d0731",
   "metadata": {},
   "source": [
    "## 1.4 Obtainning matrix  of transitions into of infectious stages (T)"
   ]
  },
  {
   "cell_type": "code",
   "execution_count": 21,
   "id": "fb07d801",
   "metadata": {},
   "outputs": [
    {
     "data": {
      "image/png": "[encoded data removed]",
      "text/latex": [
       "$\\displaystyle \\left[\\begin{matrix}0 & 0 & \\beta p\\\\0 & 0 & \\beta \\left(1 - p\\right)\\\\0 & 0 & 0\\end{matrix}\\right]$"
      ],
      "text/plain": [
       "⎡0  0     β⋅p   ⎤\n",
       "⎢               ⎥\n",
       "⎢0  0  β⋅(1 - p)⎥\n",
       "⎢               ⎥\n",
       "⎣0  0      0    ⎦"
      ]
     },
     "execution_count": 21,
     "metadata": {},
     "output_type": "execute_result"
    }
   ],
   "source": [
    "# E.g. removing people transitioning from the jacobian above.\n",
    "# Suggest not use T to name a variable could be confused with transpose of a matrix.\n",
    "T_inf_births = jacobian_of_infecteds.subs({N:1, S:1, mu:0, nu_1:0, nu_2:0, gamma:0})\n",
    "T_inf_births"
   ]
  },
  {
   "cell_type": "markdown",
   "id": "f5f437a6",
   "metadata": {},
   "source": [
    "## 1.5 Obtainning Next Geneation Matrix (K<sub>L</sub>)."
   ]
  },
  {
   "cell_type": "code",
   "execution_count": 22,
   "id": "a3bf4b72",
   "metadata": {},
   "outputs": [],
   "source": [
    "Sigma_inv = Sigma**-1 # note for powers in python it is ** not ^.\n",
    "neg_Sigma_inv = -Sigma_inv"
   ]
  },
  {
   "cell_type": "code",
   "execution_count": 23,
   "id": "f5d9c5eb",
   "metadata": {},
   "outputs": [
    {
     "data": {
      "image/png": "[encoded data removed]",
      "text/latex": [
       "$\\displaystyle \\left[\\begin{matrix}\\frac{\\beta \\nu_{1} p}{\\gamma \\mu + \\gamma \\nu_{1} + \\mu^{2} + \\mu \\nu_{1}} & \\frac{\\beta \\nu_{2} p}{\\gamma \\mu + \\gamma \\nu_{2} + \\mu^{2} + \\mu \\nu_{2}} & \\frac{\\beta p}{\\gamma + \\mu}\\\\\\frac{\\beta \\nu_{1} \\left(1 - p\\right)}{\\gamma \\mu + \\gamma \\nu_{1} + \\mu^{2} + \\mu \\nu_{1}} & \\frac{\\beta \\nu_{2} \\left(1 - p\\right)}{\\gamma \\mu + \\gamma \\nu_{2} + \\mu^{2} + \\mu \\nu_{2}} & \\frac{\\beta \\left(1 - p\\right)}{\\gamma + \\mu}\\\\0 & 0 & 0\\end{matrix}\\right]$"
      ],
      "text/plain": [
       "⎡        β⋅ν₁⋅p                  β⋅ν₂⋅p             β⋅p   ⎤\n",
       "⎢──────────────────────  ──────────────────────    ─────  ⎥\n",
       "⎢              2                       2           γ + μ  ⎥\n",
       "⎢γ⋅μ + γ⋅ν₁ + μ  + μ⋅ν₁  γ⋅μ + γ⋅ν₂ + μ  + μ⋅ν₂           ⎥\n",
       "⎢                                                         ⎥\n",
       "⎢     β⋅ν₁⋅(1 - p)            β⋅ν₂⋅(1 - p)       β⋅(1 - p)⎥\n",
       "⎢──────────────────────  ──────────────────────  ─────────⎥\n",
       "⎢              2                       2           γ + μ  ⎥\n",
       "⎢γ⋅μ + γ⋅ν₁ + μ  + μ⋅ν₁  γ⋅μ + γ⋅ν₂ + μ  + μ⋅ν₂           ⎥\n",
       "⎢                                                         ⎥\n",
       "⎣          0                       0                 0    ⎦"
      ]
     },
     "execution_count": 23,
     "metadata": {},
     "output_type": "execute_result"
    }
   ],
   "source": [
    "K_L = T_inf_births*neg_Sigma_inv\n",
    "K_L"
   ]
  },
  {
   "cell_type": "markdown",
   "id": "2887fef2",
   "metadata": {},
   "source": [
    "## 1.6 Finally the Basic Reproductive Number (R<sub>0</sub>)"
   ]
  },
  {
   "cell_type": "code",
   "execution_count": 24,
   "id": "0438c8a2",
   "metadata": {},
   "outputs": [
    {
     "data": {
      "image/png": "[encoded data removed]",
      "text/latex": [
       "$\\displaystyle \\left\\{ 0 : 2, \\  \\frac{\\beta \\left(\\mu \\nu_{1} p - \\mu \\nu_{2} p + \\mu \\nu_{2} + \\nu_{1} \\nu_{2}\\right)}{\\left(\\gamma + \\mu\\right) \\left(\\mu + \\nu_{1}\\right) \\left(\\mu + \\nu_{2}\\right)} : 1\\right\\}$"
      ],
      "text/plain": [
       "⎧      β⋅(μ⋅ν₁⋅p - μ⋅ν₂⋅p + μ⋅ν₂ + ν₁⋅ν₂)   ⎫\n",
       "⎨0: 2, ──────────────────────────────────: 1⎬\n",
       "⎩          (γ + μ)⋅(μ + ν₁)⋅(μ + ν₂)        ⎭"
      ]
     },
     "execution_count": 24,
     "metadata": {},
     "output_type": "execute_result"
    }
   ],
   "source": [
    "eigen_values = K_L.eigenvals()\n",
    "eigen_values"
   ]
  },
  {
   "cell_type": "code",
   "execution_count": 25,
   "id": "b337b4cd",
   "metadata": {},
   "outputs": [],
   "source": [
    "none_zero_eigen_values = [item for item in eigen_values.keys() if item !=0]"
   ]
  },
  {
   "cell_type": "code",
   "execution_count": 26,
   "id": "25c3a0fa",
   "metadata": {},
   "outputs": [
    {
     "data": {
      "image/png": "[encoded data removed]",
      "text/latex": [
       "$\\displaystyle \\frac{\\beta \\left(\\mu \\nu_{1} p - \\mu \\nu_{2} p + \\mu \\nu_{2} + \\nu_{1} \\nu_{2}\\right)}{\\left(\\gamma + \\mu\\right) \\left(\\mu + \\nu_{1}\\right) \\left(\\mu + \\nu_{2}\\right)}$"
      ],
      "text/plain": [
       "β⋅(μ⋅ν₁⋅p - μ⋅ν₂⋅p + μ⋅ν₂ + ν₁⋅ν₂)\n",
       "──────────────────────────────────\n",
       "    (γ + μ)⋅(μ + ν₁)⋅(μ + ν₂)     "
      ]
     },
     "execution_count": 26,
     "metadata": {},
     "output_type": "execute_result"
    }
   ],
   "source": [
    "sympy_R0 = none_zero_eigen_values[0]\n",
    "sympy_R0"
   ]
  },
  {
   "cell_type": "markdown",
   "id": "58c4f26d",
   "metadata": {},
   "source": [
    "Lets just sense check that against the Diekmann et al (2010) publication"
   ]
  },
  {
   "cell_type": "code",
   "execution_count": 27,
   "id": "979bc897",
   "metadata": {},
   "outputs": [
    {
     "data": {
      "image/png": "[encoded data removed]",
      "text/latex": [
       "$\\displaystyle \\frac{\\beta \\left(\\frac{\\nu_{1} p}{\\mu + \\nu_{1}} + \\frac{\\nu_{2} \\left(1 - p\\right)}{\\mu + \\nu_{2}}\\right)}{\\gamma + \\mu}$"
      ],
      "text/plain": [
       "  ⎛ ν₁⋅p    ν₂⋅(1 - p)⎞\n",
       "β⋅⎜────── + ──────────⎟\n",
       "  ⎝μ + ν₁     μ + ν₂  ⎠\n",
       "───────────────────────\n",
       "         γ + μ         "
      ]
     },
     "execution_count": 27,
     "metadata": {},
     "output_type": "execute_result"
    }
   ],
   "source": [
    "diekman_R0 = (p*nu_1/(nu_1+mu)+(1-p)*nu_2/(nu_2+mu))*beta/(gamma+mu)\n",
    "diekman_R0"
   ]
  },
  {
   "cell_type": "code",
   "execution_count": 28,
   "id": "3b77038a",
   "metadata": {},
   "outputs": [
    {
     "data": {
      "text/plain": [
       "True"
      ]
     },
     "execution_count": 28,
     "metadata": {},
     "output_type": "execute_result"
    }
   ],
   "source": [
    "sympy.simplify(sympy_R0 - diekman_R0)==0"
   ]
  },
  {
   "cell_type": "markdown",
   "id": "4134af28",
   "metadata": {},
   "source": [
    "### 1.6.1 Printing Basic Reproductive Number (R<sub>0</sub>) in latex form for right up."
   ]
  },
  {
   "cell_type": "code",
   "execution_count": 29,
   "id": "5f5f3504",
   "metadata": {},
   "outputs": [
    {
     "name": "stdout",
     "output_type": "stream",
     "text": [
      "\\frac{\\beta \\left(\\mu \\nu_{1} p - \\mu \\nu_{2} p + \\mu \\nu_{2} + \\nu_{1} \\nu_{2}\\right)}{\\left(\\gamma + \\mu\\right) \\left(\\mu + \\nu_{1}\\right) \\left(\\mu + \\nu_{2}\\right)}\n"
     ]
    }
   ],
   "source": [
    "sympy.print_latex(sympy_R0)"
   ]
  },
  {
   "cell_type": "markdown",
   "id": "83bd285e",
   "metadata": {},
   "source": [
    "## 2. Deriving the Basic Reproductive Number (R<sub>0</sub>) in PyGOM\n",
    "\n",
    "### 2.1 Setting up parameters and variables in PyGOM"
   ]
  },
  {
   "cell_type": "code",
   "execution_count": 31,
   "id": "14f237a7",
   "metadata": {},
   "outputs": [],
   "source": [
    "import pygom\n",
    "\n",
    "variables = ['S', 'E_1', 'E_2', 'I', 'R' ]\n",
    "params = ['mu', 'beta', 'p', 'nu_1', 'nu_2', 'gamma', 'N'] # Note N does not change in this model so we are treating it as a parameter."
   ]
  },
  {
   "cell_type": "markdown",
   "id": "54199fbb",
   "metadata": {},
   "source": [
    "### 2.2 Defining the model as birth, death and transfer transistions\n",
    "\n",
    "**Note** whilst you can setup models in PyGOM with ODE transitions, in order for PyGOM's R<sub>0</sub> function to work the model object must be defined through transfer transistions."
   ]
  },
  {
   "cell_type": "markdown",
   "id": "fc5ee997",
   "metadata": {},
   "source": [
    "#### 2.2.1 Birth and Death transitions"
   ]
  },
  {
   "cell_type": "code",
   "execution_count": 32,
   "id": "0a0ee3fb",
   "metadata": {},
   "outputs": [],
   "source": [
    "birth_death = [pygom.Transition(origin='S',\n",
    "                                equation='N*mu',\n",
    "                                transition_type='B'),\n",
    "               pygom.Transition(origin='S',\n",
    "                                equation='S*mu',\n",
    "                                transition_type='D'),\n",
    "               pygom.Transition(origin='I',\n",
    "                                equation='I*mu',\n",
    "                                transition_type='D'),\n",
    "               pygom.Transition(origin='E_1',\n",
    "                                equation='E_1*mu',\n",
    "                                transition_type='D'),\n",
    "               pygom.Transition(origin='E_2',\n",
    "                                equation='E_2*mu',\n",
    "                                transition_type='D'),\n",
    "               pygom.Transition(origin='R',\n",
    "                                equation='R*mu',\n",
    "                                transition_type='D')]"
   ]
  },
  {
   "cell_type": "markdown",
   "id": "3ab3c257",
   "metadata": {},
   "source": [
    "#### 2.2.2 Transfer transitions"
   ]
  },
  {
   "cell_type": "code",
   "execution_count": 33,
   "id": "5497267f",
   "metadata": {},
   "outputs": [],
   "source": [
    "transfers = [pygom.Transition(origin='S',\n",
    "                              equation='S*I/N*p*beta',\n",
    "                              destination='E_1',\n",
    "                              transition_type='T'),\n",
    "             pygom.Transition(origin='S',\n",
    "                              equation='S*I/N*(1-p)*beta',\n",
    "                              destination='E_2',\n",
    "                              transition_type='T'),\n",
    "             pygom.Transition(origin='E_1',\n",
    "                              equation='E_1*nu_1',\n",
    "                              destination='I',\n",
    "                              transition_type='T'),\n",
    "             pygom.Transition(origin='E_2',\n",
    "                              equation='E_2*nu_2',\n",
    "                              destination='I',\n",
    "                              transition_type='T'),\n",
    "             pygom.Transition(origin='I',\n",
    "                              equation='I*gamma',\n",
    "                              destination='R',\n",
    "                              transition_type='T'),\n",
    "            ]"
   ]
  },
  {
   "cell_type": "markdown",
   "id": "9c466d05",
   "metadata": {},
   "source": [
    "#### 2.2.3 Defining PyGOM model class"
   ]
  },
  {
   "cell_type": "code",
   "execution_count": 34,
   "id": "22238979",
   "metadata": {},
   "outputs": [],
   "source": [
    "pygom_model = pygom.SimulateOde(state=variables,\n",
    "                                param=params,\n",
    "                                birth_death=birth_death,\n",
    "                                transition=transfers)                                   "
   ]
  },
  {
   "cell_type": "code",
   "execution_count": 35,
   "id": "8d57aec6",
   "metadata": {},
   "outputs": [
    {
     "name": "stdout",
     "output_type": "stream",
     "text": [
      "⎡            I⋅S⋅β⋅p   I⋅S⋅β⋅(1 - p)            ⎤\n",
      "⎢ dS/dt=   - ─────── - ───────────── + N⋅μ - S⋅μ⎥\n",
      "⎢               N            N                  ⎥\n",
      "⎢                                               ⎥\n",
      "⎢                                 I⋅S⋅β⋅p       ⎥\n",
      "⎢dE_1/dt=         -E₁⋅μ - E₁⋅ν₁ + ───────       ⎥\n",
      "⎢                                    N          ⎥\n",
      "⎢                                               ⎥\n",
      "⎢                              I⋅S⋅β⋅(1 - p)    ⎥\n",
      "⎢dE_2/dt=      -E₂⋅μ - E₂⋅ν₂ + ─────────────    ⎥\n",
      "⎢                                    N          ⎥\n",
      "⎢                                               ⎥\n",
      "⎢ dI/dt=         E₁⋅ν₁ + E₂⋅ν₂ - I⋅γ - I⋅μ      ⎥\n",
      "⎢                                               ⎥\n",
      "⎣ dR/dt=                 I⋅γ - R⋅μ              ⎦\n"
     ]
    }
   ],
   "source": [
    "pygom_model.print_ode()"
   ]
  },
  {
   "cell_type": "markdown",
   "id": "d5088c11",
   "metadata": {},
   "source": [
    "### 2.3 Using PyGOM's R<sub>0</sub> function."
   ]
  },
  {
   "cell_type": "code",
   "execution_count": 36,
   "id": "3c1da749",
   "metadata": {},
   "outputs": [
    {
     "data": {
      "image/png": "[encoded data removed]",
      "text/latex": [
       "$\\displaystyle \\frac{\\beta \\left(\\mu \\nu_{1} p - \\mu \\nu_{2} p + \\mu \\nu_{2} + \\nu_{1} \\nu_{2}\\right)}{\\left(\\gamma + \\mu\\right) \\left(\\mu + \\nu_{1}\\right) \\left(\\mu + \\nu_{2}\\right)}$"
      ],
      "text/plain": [
       "β⋅(μ⋅ν₁⋅p - μ⋅ν₂⋅p + μ⋅ν₂ + ν₁⋅ν₂)\n",
       "──────────────────────────────────\n",
       "    (γ + μ)⋅(μ + ν₁)⋅(μ + ν₂)     "
      ]
     },
     "execution_count": 36,
     "metadata": {},
     "output_type": "execute_result"
    }
   ],
   "source": [
    "pygom_R0 = pygom.R0(ode=pygom_model, disease_state=['E_1', 'E_2', 'I'])\n",
    "pygom_R0"
   ]
  },
  {
   "cell_type": "markdown",
   "id": "5eda9e22",
   "metadata": {},
   "source": [
    "Lets just sense check that against the sympyR0.\n",
    "**Note** you will have to check for equality visually, but they are the same statement. Sometimes checking for equality of symbolic expressions for sympy can be difficult."
   ]
  },
  {
   "cell_type": "code",
   "execution_count": 37,
   "id": "12064ede",
   "metadata": {},
   "outputs": [
    {
     "data": {
      "image/png": "[encoded data removed]",
      "text/latex": [
       "$\\displaystyle \\frac{\\beta \\left(\\mu \\nu_{1} p - \\mu \\nu_{2} p + \\mu \\nu_{2} + \\nu_{1} \\nu_{2}\\right)}{\\left(\\gamma + \\mu\\right) \\left(\\mu + \\nu_{1}\\right) \\left(\\mu + \\nu_{2}\\right)}$"
      ],
      "text/plain": [
       "β⋅(μ⋅ν₁⋅p - μ⋅ν₂⋅p + μ⋅ν₂ + ν₁⋅ν₂)\n",
       "──────────────────────────────────\n",
       "    (γ + μ)⋅(μ + ν₁)⋅(μ + ν₂)     "
      ]
     },
     "execution_count": 37,
     "metadata": {},
     "output_type": "execute_result"
    }
   ],
   "source": [
    "sympy_R0"
   ]
  },
  {
   "cell_type": "code",
   "execution_count": null,
   "id": "e6a67ca7",
   "metadata": {},
   "outputs": [],
   "source": []
  }
 ],
 "metadata": {
  "kernelspec": {
   "display_name": "Python 3 (ipykernel)",
   "language": "python",
   "name": "python3"
  },
  "language_info": {
   "codemirror_mode": {
    "name": "ipython",
    "version": 3
   },
   "file_extension": ".py",
   "mimetype": "text/x-python",
   "name": "python",
   "nbconvert_exporter": "python",
   "pygments_lexer": "ipython3",
   "version": "3.11.7"
  }
 },
 "nbformat": 4,
 "nbformat_minor": 5
}
